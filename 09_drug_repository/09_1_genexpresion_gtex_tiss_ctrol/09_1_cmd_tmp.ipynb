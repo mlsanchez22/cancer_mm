{
 "cells": [
  {
   "cell_type": "code",
   "execution_count": 2,
   "id": "6d02e7bd-786b-460d-9812-94c8a7ce2ee7",
   "metadata": {},
   "outputs": [],
   "source": [
    "proj_tumorvsctrl <- data.frame(tcga=c(\"tcga_brca\", \"tcga_coad\",\"tcga_esca\",\"tcga_lgg\",\"tcga_luad\",\"tcga_lusc\",\"tcga_paad\",\"tcga_skcm\",\"tcga_stad\"),\n",
    "                          gtex=c(\"Breast\",\"Colon\",\"Esophagus\",\"Brain\",\"Lung\",\"Lung\",\"Pancreas\",\"Skin\",\"Stomach\"))"
   ]
  },
  {
   "cell_type": "code",
   "execution_count": 3,
   "id": "c1ae6cb5-9dda-4b03-9520-9409086731c4",
   "metadata": {},
   "outputs": [],
   "source": [
    "writeLines(unlist(lapply(proj_tumorvsctrl$gtex, FUN=function(x) paste(\"Rscript /mnt/lustre/scratch/CBRA/research/projects/tcga_mm/code/09_drug_repository/09_1_genexpresion_gtex_tiss_ctrol/09_1_genexpresion_gtex_tiss_ctrol.R \",x,sep=\"\"))),\n",
    "                         \"/mnt/lustre/scratch/CBRA/research/projects/tcga_mm/code/09_drug_repository/09_1_genexpresion_gtex_tiss_ctrol/09_1_genexpresion_gtex_tiss_ctrol.cmd\")"
   ]
  },
  {
   "cell_type": "code",
   "execution_count": null,
   "id": "eebae6b9-205a-4d15-a06d-f38258f3b788",
   "metadata": {},
   "outputs": [],
   "source": []
  }
 ],
 "metadata": {
  "kernelspec": {
   "display_name": "R",
   "language": "R",
   "name": "ir"
  },
  "language_info": {
   "codemirror_mode": "r",
   "file_extension": ".r",
   "mimetype": "text/x-r-source",
   "name": "R",
   "pygments_lexer": "r",
   "version": "4.3.2"
  }
 },
 "nbformat": 4,
 "nbformat_minor": 5
}
