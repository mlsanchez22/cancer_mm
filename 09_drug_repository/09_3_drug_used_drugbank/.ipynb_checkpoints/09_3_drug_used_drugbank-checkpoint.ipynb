{
 "cells": [
  {
   "cell_type": "code",
   "execution_count": 36,
   "id": "ad9a4252-0a6d-486c-82ca-b83795773c81",
   "metadata": {},
   "outputs": [],
   "source": [
    "proj_tumorvsctrl <- data.frame(tcga=c(\"tcga_brca\", \"tcga_coad\",\"tcga_esca\",\"tcga_lgg\",\"tcga_luad\",\"tcga_lusc\",\"tcga_paad\",\"tcga_skcm\",\"tcga_stad\"),\n",
    "                          gtex=c(\"Breast\",\"Colon\",\"Esophagus\",\"Brain\",\"Lung\",\"Lung\",\"Pancreas\",\"Skin\",\"Stomach\"))"
   ]
  },
  {
   "cell_type": "code",
   "execution_count": 37,
   "id": "3b4f8b09-ae99-4c52-bce9-d40bd255c9a2",
   "metadata": {},
   "outputs": [],
   "source": [
    "drug_bank <- read.table(\"/mnt/lustre/scratch/CBRA/data/DRUGBANK/drugbank_drug-bindings_v5.1.8.tsv\", sep=\"\\t\", header=T)"
   ]
  },
  {
   "cell_type": "code",
   "execution_count": 38,
   "id": "22ba4ffd-b393-4942-aa35-58d7200335f1",
   "metadata": {},
   "outputs": [],
   "source": [
    "create_drugbank_gene_targets_file_funct <- function(project){\n",
    "    file <- paste(\"/mnt/lustre/scratch/CBRA/research/projects/tcga_mm/results/04_mm_ko_drug_used/04_1_correc_drug/\",project,\"/pat_drug_corr_\",project,\".rds\",sep=\"\")\n",
    "    pat_drug_corr <- readRDS(file)\n",
    "    drug_bank_used <- drug_bank[tolower(drug_bank$drug_name) %in% unique(pat_drug_corr$drug_name)[unique(pat_drug_corr$drug_name) != \"\"],]\n",
    "    targets <- unique(drug_bank_used$gene_name)[!is.na(unique(drug_bank_used$gene_name))]\n",
    "    targets <- targets[targets !=\"NULL\"]\n",
    "    drugbank_gene_targets <- data.frame(\"index\"=targets, \"is_target\"=rep(\"TRUE\",length(targets)))\n",
    "    write.table(drugbank_gene_targets, file = paste(\"/mnt/lustre/scratch/CBRA/research/projects/tcga_mm/results/09_drug_repository/09_3_drugbank_used/09_3_drugbank_gene_targets_\",project,\".tsv\",sep=\"\"), row.names=FALSE, sep=\"\\t\",quote=F)\n",
    "}"
   ]
  },
  {
   "cell_type": "code",
   "execution_count": 39,
   "id": "f5f92160-2c2e-406d-97cd-5acaf355e40b",
   "metadata": {},
   "outputs": [
    {
     "data": {
      "text/html": [
       "<ol>\n",
       "\t<li>NULL</li>\n",
       "\t<li>NULL</li>\n",
       "\t<li>NULL</li>\n",
       "\t<li>NULL</li>\n",
       "\t<li>NULL</li>\n",
       "\t<li>NULL</li>\n",
       "\t<li>NULL</li>\n",
       "\t<li>NULL</li>\n",
       "\t<li>NULL</li>\n",
       "</ol>\n"
      ],
      "text/latex": [
       "\\begin{enumerate}\n",
       "\\item NULL\n",
       "\\item NULL\n",
       "\\item NULL\n",
       "\\item NULL\n",
       "\\item NULL\n",
       "\\item NULL\n",
       "\\item NULL\n",
       "\\item NULL\n",
       "\\item NULL\n",
       "\\end{enumerate}\n"
      ],
      "text/markdown": [
       "1. NULL\n",
       "2. NULL\n",
       "3. NULL\n",
       "4. NULL\n",
       "5. NULL\n",
       "6. NULL\n",
       "7. NULL\n",
       "8. NULL\n",
       "9. NULL\n",
       "\n",
       "\n"
      ],
      "text/plain": [
       "[[1]]\n",
       "NULL\n",
       "\n",
       "[[2]]\n",
       "NULL\n",
       "\n",
       "[[3]]\n",
       "NULL\n",
       "\n",
       "[[4]]\n",
       "NULL\n",
       "\n",
       "[[5]]\n",
       "NULL\n",
       "\n",
       "[[6]]\n",
       "NULL\n",
       "\n",
       "[[7]]\n",
       "NULL\n",
       "\n",
       "[[8]]\n",
       "NULL\n",
       "\n",
       "[[9]]\n",
       "NULL\n"
      ]
     },
     "metadata": {},
     "output_type": "display_data"
    }
   ],
   "source": [
    "lapply(proj_tumorvsctrl$tcga, FUN=function(x) create_drugbank_gene_targets_file_funct(x))"
   ]
  }
 ],
 "metadata": {
  "kernelspec": {
   "display_name": "R",
   "language": "R",
   "name": "ir"
  },
  "language_info": {
   "codemirror_mode": "r",
   "file_extension": ".r",
   "mimetype": "text/x-r-source",
   "name": "R",
   "pygments_lexer": "r",
   "version": "4.3.2"
  }
 },
 "nbformat": 4,
 "nbformat_minor": 5
}
