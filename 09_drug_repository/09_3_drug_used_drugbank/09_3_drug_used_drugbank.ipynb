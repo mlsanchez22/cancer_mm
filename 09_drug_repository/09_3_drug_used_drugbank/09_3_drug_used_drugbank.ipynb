{
 "cells": [
  {
   "cell_type": "code",
   "execution_count": 36,
   "id": "ad9a4252-0a6d-486c-82ca-b83795773c81",
   "metadata": {},
   "outputs": [],
   "source": [
    "proj_tumorvsctrl <- data.frame(tcga=c(\"tcga_brca\", \"tcga_coad\",\"tcga_esca\",\"tcga_lgg\",\"tcga_luad\",\"tcga_lusc\",\"tcga_paad\",\"tcga_skcm\",\"tcga_stad\"),\n",
    "                          gtex=c(\"Breast\",\"Colon\",\"Esophagus\",\"Brain\",\"Lung\",\"Lung\",\"Pancreas\",\"Skin\",\"Stomach\"))"
   ]
  },
  {
   "cell_type": "code",
   "execution_count": 1,
   "id": "3b4f8b09-ae99-4c52-bce9-d40bd255c9a2",
   "metadata": {},
   "outputs": [],
   "source": [
    "drug_bank <- read.table(\"/mnt/lustre/scratch/CBRA/data/DRUGBANK/drugbank_drug-bindings_v5.1.8.tsv\", sep=\"\\t\", header=T)"
   ]
  },
  {
   "cell_type": "code",
   "execution_count": 8,
   "id": "955001ec-80eb-4923-9afe-602034b4c567",
   "metadata": {},
   "outputs": [
    {
     "data": {
      "text/html": [
       "<table class=\"dataframe\">\n",
       "<caption>A data.frame: 7 × 14</caption>\n",
       "<thead>\n",
       "\t<tr><th></th><th scope=col>drug_id</th><th scope=col>drug_name</th><th scope=col>list_index</th><th scope=col>groups</th><th scope=col>drug_binding</th><th scope=col>binding_id</th><th scope=col>binding_name</th><th scope=col>gene_name</th><th scope=col>uniprot_ID</th><th scope=col>entrez_id</th><th scope=col>organism</th><th scope=col>pharmacological_action</th><th scope=col>actions</th><th scope=col>associated_conditions</th></tr>\n",
       "\t<tr><th></th><th scope=col>&lt;chr&gt;</th><th scope=col>&lt;chr&gt;</th><th scope=col>&lt;int&gt;</th><th scope=col>&lt;chr&gt;</th><th scope=col>&lt;chr&gt;</th><th scope=col>&lt;chr&gt;</th><th scope=col>&lt;chr&gt;</th><th scope=col>&lt;chr&gt;</th><th scope=col>&lt;chr&gt;</th><th scope=col>&lt;int&gt;</th><th scope=col>&lt;chr&gt;</th><th scope=col>&lt;chr&gt;</th><th scope=col>&lt;chr&gt;</th><th scope=col>&lt;chr&gt;</th></tr>\n",
       "</thead>\n",
       "<tbody>\n",
       "\t<tr><th scope=row>7492</th><td>DB00970</td><td>Dactinomycin</td><td>953</td><td>approved,investigational</td><td>target_gene</td><td>BE0004796</td><td><span style=white-space:pre-wrap>DNA                                       </span></td><td><span style=white-space:pre-wrap>NULL   </span></td><td><span style=white-space:pre-wrap>NULL  </span></td><td><span style=white-space:pre-wrap>  NA</span></td><td>Humans</td><td><span style=white-space:pre-wrap>yes    </span></td><td><span style=white-space:pre-wrap>adduct             </span></td><td>Ewing&amp;</td></tr>\n",
       "\t<tr><th scope=row>7493</th><td>DB00970</td><td>Dactinomycin</td><td>953</td><td>approved,investigational</td><td>target_gene</td><td>BE0004951</td><td><span style=white-space:pre-wrap>DNA topoisomerase 2                       </span></td><td><span style=white-space:pre-wrap>TOP2A  </span></td><td>P11388</td><td>7153</td><td>Humans</td><td>unknown</td><td><span style=white-space:pre-wrap>inhibitor          </span></td><td>Ewing&amp;</td></tr>\n",
       "\t<tr><th scope=row>7494</th><td>DB00970</td><td>Dactinomycin</td><td>953</td><td>approved,investigational</td><td>transporter</td><td>BE0000106</td><td><span style=white-space:pre-wrap>Solute carrier family 22 member 5         </span></td><td>SLC22A5</td><td>O76082</td><td>6584</td><td>Humans</td><td>unknown</td><td><span style=white-space:pre-wrap>inhibitor          </span></td><td>Ewing&amp;</td></tr>\n",
       "\t<tr><th scope=row>7495</th><td>DB00970</td><td>Dactinomycin</td><td>953</td><td>approved,investigational</td><td>transporter</td><td>BE0001032</td><td><span style=white-space:pre-wrap>P-glycoprotein 1                          </span></td><td><span style=white-space:pre-wrap>ABCB1  </span></td><td>P08183</td><td>5243</td><td>Humans</td><td>unknown</td><td>substrate,inhibitor</td><td>Ewing&amp;</td></tr>\n",
       "\t<tr><th scope=row>7496</th><td>DB00970</td><td>Dactinomycin</td><td>953</td><td>approved,investigational</td><td>transporter</td><td>BE0003640</td><td>Multidrug resistance-associated protein 6 </td><td><span style=white-space:pre-wrap>ABCC6  </span></td><td>O95255</td><td> 368</td><td>Humans</td><td>unknown</td><td><span style=white-space:pre-wrap>substrate          </span></td><td>Ewing&amp;</td></tr>\n",
       "\t<tr><th scope=row>7497</th><td>DB00970</td><td>Dactinomycin</td><td>953</td><td>approved,investigational</td><td>transporter</td><td>BE0000785</td><td>Multidrug resistance-associated protein 1 </td><td><span style=white-space:pre-wrap>ABCC1  </span></td><td>P33527</td><td>4363</td><td>Humans</td><td>unknown</td><td><span style=white-space:pre-wrap>substrate          </span></td><td>Ewing&amp;</td></tr>\n",
       "\t<tr><th scope=row>7498</th><td>DB00970</td><td>Dactinomycin</td><td>953</td><td>approved,investigational</td><td>transporter</td><td>BE0001067</td><td>ATP-binding cassette sub-family G member 2</td><td><span style=white-space:pre-wrap>ABCG2  </span></td><td>Q9UNQ0</td><td>9429</td><td>Humans</td><td>unknown</td><td><span style=white-space:pre-wrap>substrate          </span></td><td>Ewing&amp;</td></tr>\n",
       "</tbody>\n",
       "</table>\n"
      ],
      "text/latex": [
       "A data.frame: 7 × 14\n",
       "\\begin{tabular}{r|llllllllllllll}\n",
       "  & drug\\_id & drug\\_name & list\\_index & groups & drug\\_binding & binding\\_id & binding\\_name & gene\\_name & uniprot\\_ID & entrez\\_id & organism & pharmacological\\_action & actions & associated\\_conditions\\\\\n",
       "  & <chr> & <chr> & <int> & <chr> & <chr> & <chr> & <chr> & <chr> & <chr> & <int> & <chr> & <chr> & <chr> & <chr>\\\\\n",
       "\\hline\n",
       "\t7492 & DB00970 & Dactinomycin & 953 & approved,investigational & target\\_gene & BE0004796 & DNA                                        & NULL    & NULL   &   NA & Humans & yes     & adduct              & Ewing\\&\\\\\n",
       "\t7493 & DB00970 & Dactinomycin & 953 & approved,investigational & target\\_gene & BE0004951 & DNA topoisomerase 2                        & TOP2A   & P11388 & 7153 & Humans & unknown & inhibitor           & Ewing\\&\\\\\n",
       "\t7494 & DB00970 & Dactinomycin & 953 & approved,investigational & transporter & BE0000106 & Solute carrier family 22 member 5          & SLC22A5 & O76082 & 6584 & Humans & unknown & inhibitor           & Ewing\\&\\\\\n",
       "\t7495 & DB00970 & Dactinomycin & 953 & approved,investigational & transporter & BE0001032 & P-glycoprotein 1                           & ABCB1   & P08183 & 5243 & Humans & unknown & substrate,inhibitor & Ewing\\&\\\\\n",
       "\t7496 & DB00970 & Dactinomycin & 953 & approved,investigational & transporter & BE0003640 & Multidrug resistance-associated protein 6  & ABCC6   & O95255 &  368 & Humans & unknown & substrate           & Ewing\\&\\\\\n",
       "\t7497 & DB00970 & Dactinomycin & 953 & approved,investigational & transporter & BE0000785 & Multidrug resistance-associated protein 1  & ABCC1   & P33527 & 4363 & Humans & unknown & substrate           & Ewing\\&\\\\\n",
       "\t7498 & DB00970 & Dactinomycin & 953 & approved,investigational & transporter & BE0001067 & ATP-binding cassette sub-family G member 2 & ABCG2   & Q9UNQ0 & 9429 & Humans & unknown & substrate           & Ewing\\&\\\\\n",
       "\\end{tabular}\n"
      ],
      "text/markdown": [
       "\n",
       "A data.frame: 7 × 14\n",
       "\n",
       "| <!--/--> | drug_id &lt;chr&gt; | drug_name &lt;chr&gt; | list_index &lt;int&gt; | groups &lt;chr&gt; | drug_binding &lt;chr&gt; | binding_id &lt;chr&gt; | binding_name &lt;chr&gt; | gene_name &lt;chr&gt; | uniprot_ID &lt;chr&gt; | entrez_id &lt;int&gt; | organism &lt;chr&gt; | pharmacological_action &lt;chr&gt; | actions &lt;chr&gt; | associated_conditions &lt;chr&gt; |\n",
       "|---|---|---|---|---|---|---|---|---|---|---|---|---|---|---|\n",
       "| 7492 | DB00970 | Dactinomycin | 953 | approved,investigational | target_gene | BE0004796 | DNA                                        | NULL    | NULL   |   NA | Humans | yes     | adduct              | Ewing&amp; |\n",
       "| 7493 | DB00970 | Dactinomycin | 953 | approved,investigational | target_gene | BE0004951 | DNA topoisomerase 2                        | TOP2A   | P11388 | 7153 | Humans | unknown | inhibitor           | Ewing&amp; |\n",
       "| 7494 | DB00970 | Dactinomycin | 953 | approved,investigational | transporter | BE0000106 | Solute carrier family 22 member 5          | SLC22A5 | O76082 | 6584 | Humans | unknown | inhibitor           | Ewing&amp; |\n",
       "| 7495 | DB00970 | Dactinomycin | 953 | approved,investigational | transporter | BE0001032 | P-glycoprotein 1                           | ABCB1   | P08183 | 5243 | Humans | unknown | substrate,inhibitor | Ewing&amp; |\n",
       "| 7496 | DB00970 | Dactinomycin | 953 | approved,investigational | transporter | BE0003640 | Multidrug resistance-associated protein 6  | ABCC6   | O95255 |  368 | Humans | unknown | substrate           | Ewing&amp; |\n",
       "| 7497 | DB00970 | Dactinomycin | 953 | approved,investigational | transporter | BE0000785 | Multidrug resistance-associated protein 1  | ABCC1   | P33527 | 4363 | Humans | unknown | substrate           | Ewing&amp; |\n",
       "| 7498 | DB00970 | Dactinomycin | 953 | approved,investigational | transporter | BE0001067 | ATP-binding cassette sub-family G member 2 | ABCG2   | Q9UNQ0 | 9429 | Humans | unknown | substrate           | Ewing&amp; |\n",
       "\n"
      ],
      "text/plain": [
       "     drug_id drug_name    list_index groups                   drug_binding\n",
       "7492 DB00970 Dactinomycin 953        approved,investigational target_gene \n",
       "7493 DB00970 Dactinomycin 953        approved,investigational target_gene \n",
       "7494 DB00970 Dactinomycin 953        approved,investigational transporter \n",
       "7495 DB00970 Dactinomycin 953        approved,investigational transporter \n",
       "7496 DB00970 Dactinomycin 953        approved,investigational transporter \n",
       "7497 DB00970 Dactinomycin 953        approved,investigational transporter \n",
       "7498 DB00970 Dactinomycin 953        approved,investigational transporter \n",
       "     binding_id binding_name                               gene_name uniprot_ID\n",
       "7492 BE0004796  DNA                                        NULL      NULL      \n",
       "7493 BE0004951  DNA topoisomerase 2                        TOP2A     P11388    \n",
       "7494 BE0000106  Solute carrier family 22 member 5          SLC22A5   O76082    \n",
       "7495 BE0001032  P-glycoprotein 1                           ABCB1     P08183    \n",
       "7496 BE0003640  Multidrug resistance-associated protein 6  ABCC6     O95255    \n",
       "7497 BE0000785  Multidrug resistance-associated protein 1  ABCC1     P33527    \n",
       "7498 BE0001067  ATP-binding cassette sub-family G member 2 ABCG2     Q9UNQ0    \n",
       "     entrez_id organism pharmacological_action actions            \n",
       "7492   NA      Humans   yes                    adduct             \n",
       "7493 7153      Humans   unknown                inhibitor          \n",
       "7494 6584      Humans   unknown                inhibitor          \n",
       "7495 5243      Humans   unknown                substrate,inhibitor\n",
       "7496  368      Humans   unknown                substrate          \n",
       "7497 4363      Humans   unknown                substrate          \n",
       "7498 9429      Humans   unknown                substrate          \n",
       "     associated_conditions\n",
       "7492 Ewing&               \n",
       "7493 Ewing&               \n",
       "7494 Ewing&               \n",
       "7495 Ewing&               \n",
       "7496 Ewing&               \n",
       "7497 Ewing&               \n",
       "7498 Ewing&               "
      ]
     },
     "metadata": {},
     "output_type": "display_data"
    }
   ],
   "source": [
    "drug_bank[grep(\"Dactino\",drug_bank$drug_name),]"
   ]
  },
  {
   "cell_type": "code",
   "execution_count": 38,
   "id": "22ba4ffd-b393-4942-aa35-58d7200335f1",
   "metadata": {},
   "outputs": [],
   "source": [
    "create_drugbank_gene_targets_file_funct <- function(project){\n",
    "    file <- paste(\"/mnt/lustre/scratch/CBRA/research/projects/tcga_mm/results/04_mm_ko_drug_used/04_1_correc_drug/\",project,\"/pat_drug_corr_\",project,\".rds\",sep=\"\")\n",
    "    pat_drug_corr <- readRDS(file)\n",
    "    drug_bank_used <- drug_bank[tolower(drug_bank$drug_name) %in% unique(pat_drug_corr$drug_name)[unique(pat_drug_corr$drug_name) != \"\"],]\n",
    "    targets <- unique(drug_bank_used$gene_name)[!is.na(unique(drug_bank_used$gene_name))]\n",
    "    targets <- targets[targets !=\"NULL\"]\n",
    "    drugbank_gene_targets <- data.frame(\"index\"=targets, \"is_target\"=rep(\"TRUE\",length(targets)))\n",
    "    write.table(drugbank_gene_targets, file = paste(\"/mnt/lustre/scratch/CBRA/research/projects/tcga_mm/results/09_drug_repository/09_3_drugbank_used/09_3_drugbank_gene_targets_\",project,\".tsv\",sep=\"\"), row.names=FALSE, sep=\"\\t\",quote=F)\n",
    "}"
   ]
  },
  {
   "cell_type": "code",
   "execution_count": 39,
   "id": "f5f92160-2c2e-406d-97cd-5acaf355e40b",
   "metadata": {},
   "outputs": [
    {
     "data": {
      "text/html": [
       "<ol>\n",
       "\t<li>NULL</li>\n",
       "\t<li>NULL</li>\n",
       "\t<li>NULL</li>\n",
       "\t<li>NULL</li>\n",
       "\t<li>NULL</li>\n",
       "\t<li>NULL</li>\n",
       "\t<li>NULL</li>\n",
       "\t<li>NULL</li>\n",
       "\t<li>NULL</li>\n",
       "</ol>\n"
      ],
      "text/latex": [
       "\\begin{enumerate}\n",
       "\\item NULL\n",
       "\\item NULL\n",
       "\\item NULL\n",
       "\\item NULL\n",
       "\\item NULL\n",
       "\\item NULL\n",
       "\\item NULL\n",
       "\\item NULL\n",
       "\\item NULL\n",
       "\\end{enumerate}\n"
      ],
      "text/markdown": [
       "1. NULL\n",
       "2. NULL\n",
       "3. NULL\n",
       "4. NULL\n",
       "5. NULL\n",
       "6. NULL\n",
       "7. NULL\n",
       "8. NULL\n",
       "9. NULL\n",
       "\n",
       "\n"
      ],
      "text/plain": [
       "[[1]]\n",
       "NULL\n",
       "\n",
       "[[2]]\n",
       "NULL\n",
       "\n",
       "[[3]]\n",
       "NULL\n",
       "\n",
       "[[4]]\n",
       "NULL\n",
       "\n",
       "[[5]]\n",
       "NULL\n",
       "\n",
       "[[6]]\n",
       "NULL\n",
       "\n",
       "[[7]]\n",
       "NULL\n",
       "\n",
       "[[8]]\n",
       "NULL\n",
       "\n",
       "[[9]]\n",
       "NULL\n"
      ]
     },
     "metadata": {},
     "output_type": "display_data"
    }
   ],
   "source": [
    "lapply(proj_tumorvsctrl$tcga, FUN=function(x) create_drugbank_gene_targets_file_funct(x))"
   ]
  }
 ],
 "metadata": {
  "kernelspec": {
   "display_name": "R",
   "language": "R",
   "name": "ir"
  },
  "language_info": {
   "codemirror_mode": "r",
   "file_extension": ".r",
   "mimetype": "text/x-r-source",
   "name": "R",
   "pygments_lexer": "r",
   "version": "4.3.2"
  }
 },
 "nbformat": 4,
 "nbformat_minor": 5
}
