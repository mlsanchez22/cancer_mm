{
 "cells": [
  {
   "cell_type": "code",
   "execution_count": 44,
   "id": "834a2af7-f237-485f-8116-cfb870cd35e2",
   "metadata": {
    "collapsed": true,
    "jupyter": {
     "outputs_hidden": true
    }
   },
   "outputs": [
    {
     "name": "stderr",
     "output_type": "stream",
     "text": [
      "\n",
      "Attaching package: ‘dplyr’\n",
      "\n",
      "\n",
      "The following object is masked from ‘package:AnnotationDbi’:\n",
      "\n",
      "    select\n",
      "\n",
      "\n",
      "The following object is masked from ‘package:Biobase’:\n",
      "\n",
      "    combine\n",
      "\n",
      "\n",
      "The following objects are masked from ‘package:GenomicRanges’:\n",
      "\n",
      "    intersect, setdiff, union\n",
      "\n",
      "\n",
      "The following object is masked from ‘package:GenomeInfoDb’:\n",
      "\n",
      "    intersect\n",
      "\n",
      "\n",
      "The following objects are masked from ‘package:IRanges’:\n",
      "\n",
      "    collapse, desc, intersect, setdiff, slice, union\n",
      "\n",
      "\n",
      "The following objects are masked from ‘package:S4Vectors’:\n",
      "\n",
      "    first, intersect, rename, setdiff, setequal, union\n",
      "\n",
      "\n",
      "The following object is masked from ‘package:matrixStats’:\n",
      "\n",
      "    count\n",
      "\n",
      "\n",
      "The following objects are masked from ‘package:dbplyr’:\n",
      "\n",
      "    ident, sql\n",
      "\n",
      "\n",
      "The following objects are masked from ‘package:BiocGenerics’:\n",
      "\n",
      "    combine, intersect, setdiff, union\n",
      "\n",
      "\n",
      "The following objects are masked from ‘package:igraph’:\n",
      "\n",
      "    as_data_frame, groups, union\n",
      "\n",
      "\n",
      "The following objects are masked from ‘package:stats’:\n",
      "\n",
      "    filter, lag\n",
      "\n",
      "\n",
      "The following objects are masked from ‘package:base’:\n",
      "\n",
      "    intersect, setdiff, setequal, union\n",
      "\n",
      "\n"
     ]
    }
   ],
   "source": [
    "library(\"hipathia\")\n",
    "library(\"AnnotationDbi\")\n",
    "library(\"org.Hs.eg.db\")\n",
    "library(\"dplyr\")"
   ]
  },
  {
   "cell_type": "code",
   "execution_count": 10,
   "id": "410b632b-ca02-49bb-b5e4-87ed23120e77",
   "metadata": {},
   "outputs": [],
   "source": [
    "proj_tumorvsctrl <- data.frame(tcga=c(\"tcga_brca\", \"tcga_coad\",\"tcga_esca\",\"tcga_lgg\",\"tcga_luad\",\"tcga_lusc\",\"tcga_paad\",\"tcga_skcm\",\"tcga_stad\"),\n",
    "                          gtex=c(\"Breast\",\"Colon\",\"Esophagus\",\"Brain\",\"Lung\",\"Lung\",\"Pancreas\",\"Skin\",\"Stomach\"))"
   ]
  },
  {
   "cell_type": "code",
   "execution_count": 36,
   "id": "00c9e6a3-ad3d-47c0-9a01-4e24041c15e3",
   "metadata": {},
   "outputs": [],
   "source": [
    "project <- proj_tumorvsctrl$tcga[1]"
   ]
  },
  {
   "cell_type": "code",
   "execution_count": 55,
   "id": "fe0ae761-9646-4028-addc-5cdcf7349693",
   "metadata": {},
   "outputs": [],
   "source": [
    "creat_file_as_gtex_tcga <- function(project){\n",
    "\n",
    "counts_tcga <- assay(readRDS(paste(\"/mnt/lustre/scratch/CBRA/research/projects/tcga_mm/results/00_download_tcga_dataset/\",project,\"/counts_\",project,\".rds\",sep=\"\")))\n",
    "\n",
    "symbols <- mapIds(org.Hs.eg.db,keys=unlist(lapply(strsplit(rownames(counts_tcga), \".\", fixed = T), FUN=function(x) x[1])) ,column=\"SYMBOL\", keytype=\"ENSEMBL\")\n",
    "colum_1_2 <- data.frame(\"Name\"=rownames(counts_tcga),\"Description\"=symbols)                                                  \n",
    "\n",
    "patients_geneexp_clind_drug_samptype <- readRDS(paste(\"/mnt/lustre/scratch/CBRA/research/projects/tcga_mm/results/02_selection_samples/02_1_ext_information_patients_tcga/\",project,\"/patients_geneexp_clind_drug_samptype_\",project,\".rds\",sep=\"\"))\n",
    "\n",
    "patients_female <- data.frame(patients_geneexp_clind_drug_samptype %>% filter(sample_type == \"Primary Solid Tumor\" & gender==\"FEMALE\"))$patient\n",
    "counts_female_as_gtex <- cbind(colum_1_2,counts_tcga[,patients_female])\n",
    "\n",
    "patients_male <- data.frame(patients_geneexp_clind_drug_samptype %>% filter(sample_type == \"Primary Solid Tumor\" & gender==\"MALE\"))$patient\n",
    "counts_male_as_gtex <- cbind(colum_1_2,counts_tcga[,patients_male])\n",
    "\n",
    "write.table(counts_female_as_gtex, file = paste(\"/mnt/lustre/scratch/CBRA/research/projects/tcga_mm/results/09_drug_repository/09_5_genexpresion_tcga/\",project,\"_geneexp_female.tsv\",sep=\"\"), row.names=FALSE, sep=\"\\t\",quote=F)\n",
    "write.table(counts_male_as_gtex, file = paste(\"/mnt/lustre/scratch/CBRA/research/projects/tcga_mm/results/09_drug_repository/09_5_genexpresion_tcga/\",project,\"_geneexp_male.tsv\",sep=\"\"), row.names=FALSE, sep=\"\\t\",quote=F)                                                  \n",
    "}                                                  "
   ]
  },
  {
   "cell_type": "code",
   "execution_count": 56,
   "id": "9f6a3a31-7671-49d4-9be2-424a84afbd14",
   "metadata": {},
   "outputs": [
    {
     "name": "stderr",
     "output_type": "stream",
     "text": [
      "'select()' returned 1:many mapping between keys and columns\n",
      "\n",
      "'select()' returned 1:many mapping between keys and columns\n",
      "\n",
      "'select()' returned 1:many mapping between keys and columns\n",
      "\n",
      "'select()' returned 1:many mapping between keys and columns\n",
      "\n",
      "'select()' returned 1:many mapping between keys and columns\n",
      "\n",
      "'select()' returned 1:many mapping between keys and columns\n",
      "\n",
      "'select()' returned 1:many mapping between keys and columns\n",
      "\n",
      "'select()' returned 1:many mapping between keys and columns\n",
      "\n",
      "'select()' returned 1:many mapping between keys and columns\n",
      "\n"
     ]
    },
    {
     "data": {
      "text/html": [
       "<ol>\n",
       "\t<li>NULL</li>\n",
       "\t<li>NULL</li>\n",
       "\t<li>NULL</li>\n",
       "\t<li>NULL</li>\n",
       "\t<li>NULL</li>\n",
       "\t<li>NULL</li>\n",
       "\t<li>NULL</li>\n",
       "\t<li>NULL</li>\n",
       "\t<li>NULL</li>\n",
       "</ol>\n"
      ],
      "text/latex": [
       "\\begin{enumerate}\n",
       "\\item NULL\n",
       "\\item NULL\n",
       "\\item NULL\n",
       "\\item NULL\n",
       "\\item NULL\n",
       "\\item NULL\n",
       "\\item NULL\n",
       "\\item NULL\n",
       "\\item NULL\n",
       "\\end{enumerate}\n"
      ],
      "text/markdown": [
       "1. NULL\n",
       "2. NULL\n",
       "3. NULL\n",
       "4. NULL\n",
       "5. NULL\n",
       "6. NULL\n",
       "7. NULL\n",
       "8. NULL\n",
       "9. NULL\n",
       "\n",
       "\n"
      ],
      "text/plain": [
       "[[1]]\n",
       "NULL\n",
       "\n",
       "[[2]]\n",
       "NULL\n",
       "\n",
       "[[3]]\n",
       "NULL\n",
       "\n",
       "[[4]]\n",
       "NULL\n",
       "\n",
       "[[5]]\n",
       "NULL\n",
       "\n",
       "[[6]]\n",
       "NULL\n",
       "\n",
       "[[7]]\n",
       "NULL\n",
       "\n",
       "[[8]]\n",
       "NULL\n",
       "\n",
       "[[9]]\n",
       "NULL\n"
      ]
     },
     "metadata": {},
     "output_type": "display_data"
    }
   ],
   "source": [
    "lapply(proj_tumorvsctrl$tcga, FUN=function(x) creat_file_as_gtex_tcga(x))"
   ]
  },
  {
   "cell_type": "code",
   "execution_count": null,
   "id": "4e64e728-0689-4d4b-8a2b-ebdf09d3eb4e",
   "metadata": {},
   "outputs": [],
   "source": []
  },
  {
   "cell_type": "code",
   "execution_count": 39,
   "id": "cc3178b7-8368-4c92-bccf-3fe86f63620e",
   "metadata": {},
   "outputs": [],
   "source": []
  },
  {
   "cell_type": "code",
   "execution_count": 48,
   "id": "3e5606c4-aa62-4455-bca6-377fa2571576",
   "metadata": {},
   "outputs": [],
   "source": []
  },
  {
   "cell_type": "code",
   "execution_count": 51,
   "id": "545fb472-4e6d-460c-aa40-733322712f20",
   "metadata": {},
   "outputs": [],
   "source": []
  },
  {
   "cell_type": "code",
   "execution_count": 54,
   "id": "531b6fb4-4afa-400e-9e4d-4a302445b843",
   "metadata": {},
   "outputs": [],
   "source": []
  }
 ],
 "metadata": {
  "kernelspec": {
   "display_name": "R",
   "language": "R",
   "name": "ir"
  },
  "language_info": {
   "codemirror_mode": "r",
   "file_extension": ".r",
   "mimetype": "text/x-r-source",
   "name": "R",
   "pygments_lexer": "r",
   "version": "4.3.2"
  }
 },
 "nbformat": 4,
 "nbformat_minor": 5
}
