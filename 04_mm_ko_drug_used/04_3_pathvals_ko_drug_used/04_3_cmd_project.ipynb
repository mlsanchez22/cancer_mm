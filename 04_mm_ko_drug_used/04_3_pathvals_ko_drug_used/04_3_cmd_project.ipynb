{
 "cells": [
  {
   "cell_type": "code",
   "execution_count": 37,
   "id": "d99ee203-2e92-43d6-83f5-50a641238686",
   "metadata": {},
   "outputs": [],
   "source": [
    "proj_tcga_sel <- c(\"tcga_brca\", \"tcga_coad\",\"tcga_esca\",\"tcga_lgg\",\"tcga_luad\",\"tcga_lusc\",\"tcga_paad\",\"tcga_skcm\",\"tcga_stad\")\n",
    "#lapply(proj_tcga_sel, FUN=function(x) dir.create(paste(\"/mnt/lustre/scratch/CBRA/research/projects/tcga_mm/results/04_mm_ko_drug_used/04_3_pathvals_ko_drug_used/\",x,sep=\"\")))\n",
    "funct_creat_cmd <- function(project){\n",
    "pat_drug_db_circ <- readRDS(paste(\"/mnt/lustre/scratch/CBRA/research/projects/tcga_mm/results/04_mm_ko_drug_used/04_2_pat_drug_db_circ/\",project,\"/pat_drug_db_circ_\",project,\".rds\",sep=\"\"))\n",
    "\n",
    "writeLines(unlist(lapply(unique(pat_drug_db_circ$entrez_id), FUN=function(x)\n",
    "paste(\"Rscript /mnt/lustre/scratch/CBRA/research/projects/tcga_mm/code/04_mm_ko_drug_used/04_3_pathvals_ko_drug_used/04_3_pathvals_ko_drug_used.R\",project,x, sep=\" \")))\n",
    ", paste(\"/mnt/lustre/scratch/CBRA/research/projects/tcga_mm/code/04_mm_ko_drug_used/04_3_pathvals_ko_drug_used/04_3_cmd_project/\",project,\".sh\",sep=\"\"))}              "
   ]
  },
  {
   "cell_type": "code",
   "execution_count": 38,
   "id": "84223381-0bda-46c3-93bf-53765729d187",
   "metadata": {},
   "outputs": [
    {
     "data": {
      "text/html": [
       "<ol>\n",
       "\t<li>NULL</li>\n",
       "\t<li>NULL</li>\n",
       "\t<li>NULL</li>\n",
       "\t<li>NULL</li>\n",
       "\t<li>NULL</li>\n",
       "\t<li>NULL</li>\n",
       "\t<li>NULL</li>\n",
       "\t<li>NULL</li>\n",
       "\t<li>NULL</li>\n",
       "</ol>\n"
      ],
      "text/latex": [
       "\\begin{enumerate}\n",
       "\\item NULL\n",
       "\\item NULL\n",
       "\\item NULL\n",
       "\\item NULL\n",
       "\\item NULL\n",
       "\\item NULL\n",
       "\\item NULL\n",
       "\\item NULL\n",
       "\\item NULL\n",
       "\\end{enumerate}\n"
      ],
      "text/markdown": [
       "1. NULL\n",
       "2. NULL\n",
       "3. NULL\n",
       "4. NULL\n",
       "5. NULL\n",
       "6. NULL\n",
       "7. NULL\n",
       "8. NULL\n",
       "9. NULL\n",
       "\n",
       "\n"
      ],
      "text/plain": [
       "[[1]]\n",
       "NULL\n",
       "\n",
       "[[2]]\n",
       "NULL\n",
       "\n",
       "[[3]]\n",
       "NULL\n",
       "\n",
       "[[4]]\n",
       "NULL\n",
       "\n",
       "[[5]]\n",
       "NULL\n",
       "\n",
       "[[6]]\n",
       "NULL\n",
       "\n",
       "[[7]]\n",
       "NULL\n",
       "\n",
       "[[8]]\n",
       "NULL\n",
       "\n",
       "[[9]]\n",
       "NULL\n"
      ]
     },
     "metadata": {},
     "output_type": "display_data"
    }
   ],
   "source": [
    "lapply(proj_tcga_sel, FUN=function(x) funct_creat_cmd(x))"
   ]
  },
  {
   "cell_type": "code",
   "execution_count": null,
   "id": "0ff392b4-6437-4e77-a3f6-94b323925ad6",
   "metadata": {},
   "outputs": [],
   "source": []
  }
 ],
 "metadata": {
  "kernelspec": {
   "display_name": "R",
   "language": "R",
   "name": "ir"
  },
  "language_info": {
   "codemirror_mode": "r",
   "file_extension": ".r",
   "mimetype": "text/x-r-source",
   "name": "R",
   "pygments_lexer": "r",
   "version": "4.3.2"
  }
 },
 "nbformat": 4,
 "nbformat_minor": 5
}
