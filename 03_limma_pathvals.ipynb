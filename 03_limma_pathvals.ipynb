{
 "cells": [
  {
   "cell_type": "code",
   "execution_count": 256,
   "id": "31152964-d4b4-4ecc-b203-fdd8a96d54ee",
   "metadata": {},
   "outputs": [],
   "source": [
    "library(limma)\n",
    "library(dplyr)\n",
    "library(hipathia)\n",
    "library(ggvenn)\n",
    "library(reshape2)\n",
    "library(fmsb)"
   ]
  },
  {
   "cell_type": "code",
   "execution_count": 257,
   "id": "ea5d23e4-b68d-4f99-9481-0a7d31867711",
   "metadata": {},
   "outputs": [
    {
     "name": "stderr",
     "output_type": "stream",
     "text": [
      "Loaded 146 pathways\n",
      "\n"
     ]
    }
   ],
   "source": [
    "pathways <- load_pathways(\"hsa\")"
   ]
  },
  {
   "cell_type": "code",
   "execution_count": 258,
   "id": "65b3993a-77c0-4866-8552-146b8205db27",
   "metadata": {},
   "outputs": [],
   "source": [
    "funct_limma <- function(project_tcga){\n",
    "    proj_tumorvsctrl <- data.frame(tcga=c(\"tcga_brca\", \"tcga_coad\",\"tcga_esca\",\"tcga_lgg\",\"tcga_luad\",\"tcga_lusc\",\"tcga_paad\",\"tcga_skcm\",\"tcga_stad\"),\n",
    "                          gtex=c(\"Breast\",\"Colon\",\"Esophagus\",\"Brain\",\"Lung\",\"Lung\",\"Pancreas\",\"Skin\",\"Stomach\"))\n",
    "    rownames(proj_tumorvsctrl) <- proj_tumorvsctrl$tcga\n",
    "\n",
    "    donors_sex_age_tissue <- readRDS(\"/mnt/lustre/scratch/CBRA/research/projects/tcga_mm/results/02_selection_samples/02_2_ext_information_patients_gtex/donors_sex_age_tissue.rds\")\n",
    "    donors_sex_age_tissue_selproj <- donors_sex_age_tissue[which(donors_sex_age_tissue$tissue == proj_tumorvsctrl[project_tcga,\"gtex\"]),]\n",
    "\n",
    "    patients_geneexp_clind_drug_samptype_selproj <- readRDS(paste(\"/mnt/lustre/scratch/CBRA/research/projects/tcga_mm/results/02_selection_samples/02_1_ext_information_patients_tcga/\",project_tcga,\"/patients_geneexp_clind_drug_samptype_\",project_tcga,\".rds\", sep=\"\"))\n",
    "    patients_tcga_selproj <- as.data.frame(patients_geneexp_clind_drug_samptype_selproj %>% filter(sample_type == \"Primary Solid Tumor\") %>% select(gender, patient))\n",
    "\n",
    "    pathvals_gtex <- readRDS(\"/mnt/lustre/scratch/CBRA/research/projects/tcga_mm/results/01_mechanistics_models/01_2_mechanistics_models_gtex/path_vals_gtex.rds\")\n",
    "    pathvals_tcga <- readRDS(paste(\"/mnt/lustre/scratch/CBRA/research/projects/tcga_mm/results/01_mechanistics_models/01_1_mechanistics_models_tcga/\",project_tcga,\"/pathvals_\",project_tcga,\".rds\", sep=\"\"))\n",
    "\n",
    "    physiological_paths <- read.table(\"/mnt/lustre/scratch/CBRA/projects/heterogeneity/data/physiological_paths.tsv\", sep=\"\\t\") \n",
    "\n",
    "    pathvals_gtex_male <- pathvals_gtex[unlist(lapply(physiological_paths$V2, FUN=function(x) grep(x, rownames(pathvals_gtex)))),\n",
    "                                                as.data.frame(donors_sex_age_tissue_selproj %>% filter(sex==\"male\") %>% select(patients))$patients]\n",
    "    pathvals_tcga_male <- pathvals_tcga[unlist(lapply(physiological_paths$V2, FUN=function(x) grep(x, rownames(pathvals_tcga)))),\n",
    "                                                  as.data.frame(patients_tcga_selproj %>% filter(gender==\"MALE\") %>% select(patient))$patient]     \n",
    "    pathvals_male <- cbind(pathvals_gtex_male, pathvals_tcga_male)                                                  \n",
    "\n",
    "    tipo_male <- colnames(pathvals_male)\n",
    "    tipo_male[grep(\"GTEX\",tipo_male)] <- \"ctrl\"\n",
    "    tipo_male[grep(\"TCGA\",tipo_male)] <- \"tum\"\n",
    "\n",
    "    design_male <- model.matrix(~tipo_male)\n",
    "    fit_male <- lmFit(pathvals_male, design_male)\n",
    "    fit2_male <- eBayes(fit_male)\n",
    "    top_table_male <- topTable(fit2_male, number = Inf, p.value = 1, coef = \"tipo_maletum\", adjust=\"fdr\")\n",
    "\n",
    "    top_table_male_sign <- top_table_male[top_table_male$adj.P.Val < 0.05,]\n",
    "    top_table_male_sign$circ_hip <- rownames(top_table_male_sign)                                                    \n",
    "    top_table_male_sign$circ <- get_path_names(pathways,rownames(top_table_male_sign))\n",
    "    top_table_male_sign$sex <- rep(\"male\",length(top_table_male_sign$circ))\n",
    "    top_table_male_sign$project <- rep(project_tcga,length(top_table_male_sign$circ))   \n",
    "\n",
    "    pathvals_gtex_female <- pathvals_gtex[unlist(lapply(physiological_paths$V2, FUN=function(x) grep(x, rownames(pathvals_gtex)))),\n",
    "                                                as.data.frame(donors_sex_age_tissue_selproj %>% filter(sex==\"female\") %>% select(patients))$patients]\n",
    "    pathvals_tcga_female <- pathvals_tcga[unlist(lapply(physiological_paths$V2, FUN=function(x) grep(x, rownames(pathvals_tcga)))),\n",
    "                                                  as.data.frame(patients_tcga_selproj %>% filter(gender==\"FEMALE\") %>% select(patient))$patient]     \n",
    "    pathvals_female <- cbind(pathvals_gtex_female, pathvals_tcga_female)                                                  \n",
    "\n",
    "    tipo_female <- colnames(pathvals_female)\n",
    "    tipo_female[grep(\"GTEX\",tipo_female)] <- \"ctrl\"\n",
    "    tipo_female[grep(\"TCGA\",tipo_female)] <- \"tum\"\n",
    "\n",
    "    design_female <- model.matrix(~tipo_female)\n",
    "    fit_female <- lmFit(pathvals_female, design_female)\n",
    "    fit2_female <- eBayes(fit_female)\n",
    "    top_table_female <- topTable(fit2_female, number = Inf, p.value = 1, coef = \"tipo_femaletum\", adjust=\"fdr\")\n",
    "\n",
    "    top_table_female_sign <- top_table_female[top_table_female$adj.P.Val < 0.05,]\n",
    "    top_table_female_sign$circ_hip <- rownames(top_table_female_sign)                                                    \n",
    "    top_table_female_sign$circ <- get_path_names(pathways,rownames(top_table_female_sign))\n",
    "    top_table_female_sign$sex <- rep(\"female\",length(top_table_female_sign$circ))\n",
    "\ttop_table_female_sign$project <- rep(project_tcga,length(top_table_female_sign$circ))   \n",
    "\n",
    "    top_table_sign <- rbind(top_table_male_sign, top_table_female_sign)\n",
    "    return(top_table_sign)                                                    \n",
    "                                                  \n",
    "}"
   ]
  },
  {
   "cell_type": "code",
   "execution_count": 259,
   "id": "9495fbeb-fb42-4c3a-a581-e2bff69d274d",
   "metadata": {},
   "outputs": [],
   "source": [
    "proj_tumorvsctrl <- data.frame(tcga=c(\"tcga_brca\", \"tcga_coad\",\"tcga_esca\",\"tcga_lgg\",\"tcga_luad\",\"tcga_lusc\",\"tcga_paad\",\"tcga_skcm\",\"tcga_stad\"),\n",
    "                          gtex=c(\"Breast\",\"Colon\",\"Esophagus\",\"Brain\",\"Lung\",\"Lung\",\"Pancreas\",\"Skin\",\"Stomach\"))\n",
    "rownames(proj_tumorvsctrl) <- proj_tumorvsctrl$tcga"
   ]
  },
  {
   "cell_type": "code",
   "execution_count": 260,
   "id": "930a0b54-4606-4148-adbd-6792934072f9",
   "metadata": {},
   "outputs": [],
   "source": [
    "circs_sig_dif <- do.call(rbind, lapply(proj_tumorvsctrl$tcga, FUN=function(x) funct_limma(x)))\n",
    "saveRDS(circs_sig_dif,\"/mnt/lustre/scratch/CBRA/research/projects/tcga_mm/results/03_limma_pathvals/limma_pathvals.rds\")                                        "
   ]
  },
  {
   "cell_type": "code",
   "execution_count": 261,
   "id": "34ce04b4-163b-48ad-ae08-fe8c490932d1",
   "metadata": {},
   "outputs": [],
   "source": [
    "func_counts_dif_circs_sex <- function(x){\n",
    "    circs_sign_male <- data.frame(circs_sig_dif %>% filter(project==x, sex == \"male\") %>% select(circ))$circ\n",
    "    circs_sign_female <- data.frame(circs_sig_dif %>% filter(project==x, sex == \"female\") %>% select(circ))$circ\n",
    "\n",
    "    circs_both_sex <- intersect(circs_sign_female,circs_sign_male) \n",
    "    circs_only_female <- setdiff(circs_sign_female,circs_sign_male) \n",
    "    circs_only_male <- setdiff(circs_sign_male,circs_sign_female) \n",
    "    \n",
    "    circs_both_sex_difsigffc <-\n",
    "    unique(as.data.frame(circs_sig_dif[circs_sig_dif$circ %in% intersect(circs_sign_female, circs_sign_male),] %>% \n",
    "filter(project==x) %>% \n",
    "mutate(sign_logFC = case_when(\n",
    "    logFC > 0 ~ \"+\",\n",
    "    logFC < 0 ~ \"-\")) %>% group_by(circ, sign_logFC) %>% summarise(n=n()) %>% \n",
    "filter(n!=2))$circ)\n",
    "    df <- data.frame(\"project\"=x, \"n_circs_only_male\" = length(circs_only_male), \n",
    "                     \"n_circs_only_female\" = length(circs_only_female), \"n_circs_both_sex\" = length(circs_both_sex), \n",
    "                    \"n_circs_both_sex_dif_sign_logFC\"= length(circs_both_sex_difsigffc)) \n",
    "    return(df)\n",
    "    }"
   ]
  },
  {
   "cell_type": "code",
   "execution_count": 262,
   "id": "d5d00b4b-6dfd-43d6-a170-e8a16eb2f346",
   "metadata": {},
   "outputs": [],
   "source": [
    "### escribir tabla resumen"
   ]
  },
  {
   "cell_type": "code",
   "execution_count": 263,
   "id": "7e01853d-6694-4459-9c32-9208c59c3820",
   "metadata": {
    "scrolled": true
   },
   "outputs": [
    {
     "name": "stderr",
     "output_type": "stream",
     "text": [
      "\u001b[1m\u001b[22m`summarise()` has grouped output by 'circ'. You can override using the\n",
      "`.groups` argument.\n",
      "\u001b[1m\u001b[22m`summarise()` has grouped output by 'circ'. You can override using the\n",
      "`.groups` argument.\n",
      "\u001b[1m\u001b[22m`summarise()` has grouped output by 'circ'. You can override using the\n",
      "`.groups` argument.\n",
      "\u001b[1m\u001b[22m`summarise()` has grouped output by 'circ'. You can override using the\n",
      "`.groups` argument.\n",
      "\u001b[1m\u001b[22m`summarise()` has grouped output by 'circ'. You can override using the\n",
      "`.groups` argument.\n",
      "\u001b[1m\u001b[22m`summarise()` has grouped output by 'circ'. You can override using the\n",
      "`.groups` argument.\n",
      "\u001b[1m\u001b[22m`summarise()` has grouped output by 'circ'. You can override using the\n",
      "`.groups` argument.\n",
      "\u001b[1m\u001b[22m`summarise()` has grouped output by 'circ'. You can override using the\n",
      "`.groups` argument.\n",
      "\u001b[1m\u001b[22m`summarise()` has grouped output by 'circ'. You can override using the\n",
      "`.groups` argument.\n"
     ]
    },
    {
     "data": {
      "text/html": [
       "<table class=\"dataframe\">\n",
       "<caption>A data.frame: 9 × 5</caption>\n",
       "<thead>\n",
       "\t<tr><th scope=col>project</th><th scope=col>n_circs_only_male</th><th scope=col>n_circs_only_female</th><th scope=col>n_circs_both_sex</th><th scope=col>n_circs_both_sex_dif_sign_logFC</th></tr>\n",
       "\t<tr><th scope=col>&lt;chr&gt;</th><th scope=col>&lt;int&gt;</th><th scope=col>&lt;int&gt;</th><th scope=col>&lt;int&gt;</th><th scope=col>&lt;int&gt;</th></tr>\n",
       "</thead>\n",
       "<tbody>\n",
       "\t<tr><td>tcga_brca</td><td>103</td><td>96</td><td>726</td><td> 6</td></tr>\n",
       "\t<tr><td>tcga_coad</td><td> 62</td><td>25</td><td>815</td><td> 0</td></tr>\n",
       "\t<tr><td>tcga_esca</td><td>179</td><td>17</td><td>731</td><td>11</td></tr>\n",
       "\t<tr><td>tcga_lgg </td><td> 26</td><td> 8</td><td>932</td><td> 0</td></tr>\n",
       "\t<tr><td>tcga_luad</td><td> 70</td><td>26</td><td>795</td><td> 1</td></tr>\n",
       "\t<tr><td>tcga_lusc</td><td> 76</td><td>19</td><td>838</td><td> 0</td></tr>\n",
       "\t<tr><td>tcga_paad</td><td> 40</td><td>26</td><td>815</td><td> 0</td></tr>\n",
       "\t<tr><td>tcga_skcm</td><td>111</td><td>37</td><td>753</td><td> 1</td></tr>\n",
       "\t<tr><td>tcga_stad</td><td>104</td><td>19</td><td>740</td><td> 1</td></tr>\n",
       "</tbody>\n",
       "</table>\n"
      ],
      "text/latex": [
       "A data.frame: 9 × 5\n",
       "\\begin{tabular}{lllll}\n",
       " project & n\\_circs\\_only\\_male & n\\_circs\\_only\\_female & n\\_circs\\_both\\_sex & n\\_circs\\_both\\_sex\\_dif\\_sign\\_logFC\\\\\n",
       " <chr> & <int> & <int> & <int> & <int>\\\\\n",
       "\\hline\n",
       "\t tcga\\_brca & 103 & 96 & 726 &  6\\\\\n",
       "\t tcga\\_coad &  62 & 25 & 815 &  0\\\\\n",
       "\t tcga\\_esca & 179 & 17 & 731 & 11\\\\\n",
       "\t tcga\\_lgg  &  26 &  8 & 932 &  0\\\\\n",
       "\t tcga\\_luad &  70 & 26 & 795 &  1\\\\\n",
       "\t tcga\\_lusc &  76 & 19 & 838 &  0\\\\\n",
       "\t tcga\\_paad &  40 & 26 & 815 &  0\\\\\n",
       "\t tcga\\_skcm & 111 & 37 & 753 &  1\\\\\n",
       "\t tcga\\_stad & 104 & 19 & 740 &  1\\\\\n",
       "\\end{tabular}\n"
      ],
      "text/markdown": [
       "\n",
       "A data.frame: 9 × 5\n",
       "\n",
       "| project &lt;chr&gt; | n_circs_only_male &lt;int&gt; | n_circs_only_female &lt;int&gt; | n_circs_both_sex &lt;int&gt; | n_circs_both_sex_dif_sign_logFC &lt;int&gt; |\n",
       "|---|---|---|---|---|\n",
       "| tcga_brca | 103 | 96 | 726 |  6 |\n",
       "| tcga_coad |  62 | 25 | 815 |  0 |\n",
       "| tcga_esca | 179 | 17 | 731 | 11 |\n",
       "| tcga_lgg  |  26 |  8 | 932 |  0 |\n",
       "| tcga_luad |  70 | 26 | 795 |  1 |\n",
       "| tcga_lusc |  76 | 19 | 838 |  0 |\n",
       "| tcga_paad |  40 | 26 | 815 |  0 |\n",
       "| tcga_skcm | 111 | 37 | 753 |  1 |\n",
       "| tcga_stad | 104 | 19 | 740 |  1 |\n",
       "\n"
      ],
      "text/plain": [
       "  project   n_circs_only_male n_circs_only_female n_circs_both_sex\n",
       "1 tcga_brca 103               96                  726             \n",
       "2 tcga_coad  62               25                  815             \n",
       "3 tcga_esca 179               17                  731             \n",
       "4 tcga_lgg   26                8                  932             \n",
       "5 tcga_luad  70               26                  795             \n",
       "6 tcga_lusc  76               19                  838             \n",
       "7 tcga_paad  40               26                  815             \n",
       "8 tcga_skcm 111               37                  753             \n",
       "9 tcga_stad 104               19                  740             \n",
       "  n_circs_both_sex_dif_sign_logFC\n",
       "1  6                             \n",
       "2  0                             \n",
       "3 11                             \n",
       "4  0                             \n",
       "5  1                             \n",
       "6  0                             \n",
       "7  0                             \n",
       "8  1                             \n",
       "9  1                             "
      ]
     },
     "metadata": {},
     "output_type": "display_data"
    }
   ],
   "source": [
    "do.call(rbind, lapply(proj_tumorvsctrl$tcga, FUN=function(x) func_counts_dif_circs_sex(x)))"
   ]
  },
  {
   "cell_type": "code",
   "execution_count": 264,
   "id": "311eded6-10a5-47aa-a64d-9cd148bf33ea",
   "metadata": {},
   "outputs": [],
   "source": [
    "pathvals_gtex <- readRDS(\"/mnt/lustre/scratch/CBRA/research/projects/tcga_mm/results/01_mechanistics_models/01_2_mechanistics_models_gtex/path_vals_gtex.rds\")\n",
    "physiological_paths <- read.table(\"/mnt/lustre/scratch/CBRA/projects/heterogeneity/data/physiological_paths.tsv\", sep=\"\\t\") "
   ]
  },
  {
   "cell_type": "code",
   "execution_count": 265,
   "id": "251c2f07-03b5-4d36-bd66-e10641df05a0",
   "metadata": {},
   "outputs": [],
   "source": [
    "funct_porc_paths_affect_sex <- function(tcga) {\n",
    "\n",
    "    n_circs_path <- data.frame(\n",
    "    \"paths\"= physiological_paths$V1,\n",
    "    \"n_circs\"=unlist(lapply(physiological_paths$V2, FUN=function(x) length(grep(x,rownames(pathvals_gtex))))))\n",
    "    rownames(n_circs_path) <- n_circs_path$paths\n",
    "    \n",
    "    path_phys <- n_circs_path$paths\n",
    "    project <- rep(tcga, length(path_phys))\n",
    "    porc_female <- (unlist(lapply(physiological_paths$V1, FUN=function(x) \n",
    "    length(grep(x,data.frame(circs_sig_dif %>% filter(project==tcga, sex==\"female\") \n",
    "                             %>% select(circ))$circ))))/n_circs_path$n_circs)*100\n",
    "    porc_male <- (unlist(lapply(physiological_paths$V1, FUN=function(x) \n",
    "    length(grep(x,data.frame(circs_sig_dif %>% filter(project==tcga, sex==\"male\")                              \n",
    "                             %>% select(circ))$circ))))/n_circs_path$n_circs)*100\n",
    "    porc_paths_affect_sex <- data.frame(\"project\"=project, \"path_phys\"=path_phys,\n",
    "                                    \"porc_female\"=porc_female, \"porc_male\"=porc_male)\n",
    "    return(porc_paths_affect_sex)\n",
    "}                            "
   ]
  },
  {
   "cell_type": "code",
   "execution_count": 266,
   "id": "aff0a1a0-cf20-4a5e-947d-476f8025f2b0",
   "metadata": {},
   "outputs": [],
   "source": [
    "porc_paths_affect_sex <- do.call(rbind, lapply(proj_tumorvsctrl$tcga, FUN=function(x) funct_porc_paths_affect_sex(x)))"
   ]
  },
  {
   "cell_type": "code",
   "execution_count": 267,
   "id": "49a21263-1e59-4294-9c47-f7a404f47fd1",
   "metadata": {},
   "outputs": [],
   "source": [
    "porc_paths_affect_sex_csv <- as.data.frame(porc_paths_affect_sex %>% \n",
    "    mutate(project_name = case_when(project == \"tcga_brca\" ~ \"Breast invasive carcinoma\",\n",
    "                                    project == \"tcga_coad\" ~ \"Colon adenocarcinoma\",\n",
    "                                    project == \"tcga_esca\" ~ \"Esophageal carcinoma\",\n",
    "                                    project == \"tcga_lgg\" ~ \"Brain Lower Grade Glioma\",\n",
    "                                    project == \"tcga_luad\" ~ \"Lung adenocarcinoma\",\n",
    "                                    project == \"tcga_lusc\" ~ \"Lung squamous cell carcinoma\",\n",
    "                                    project == \"tcga_paad\" ~ \"Pancreatic Adenocarcinoma\",\n",
    "                                    project == \"tcga_skcm\" ~ \"Skin Cutaneous Melanoma\",\n",
    "                                    project == \"tcga_stad\" ~ \"Stomach adenocarcinoma\")))[,c(\"project_name\",\"path_phys\",\"porc_female\",\"porc_male\")]\n",
    "colnames(porc_paths_affect_sex_csv) <- c(\"cancer_type\",\"physiological pathways\",\"porc_sdcirc_female\",\"porc_sdcirc_male\")\n",
    "write.csv(porc_paths_affect_sex_csv, file=\"/mnt/lustre/scratch/CBRA/research/projects/tcga_mm/results/03_limma_pathvals/perc_circs_sign_diff_in_paths.csv\", row.names=F) "
   ]
  },
  {
   "cell_type": "code",
   "execution_count": 272,
   "id": "d1b41191-0e0b-427a-bcfa-5170f53981a4",
   "metadata": {},
   "outputs": [
    {
     "name": "stderr",
     "output_type": "stream",
     "text": [
      "Using project, path_phys, same_porc_aprox as id variables\n",
      "\n"
     ]
    },
    {
     "data": {
      "text/html": [
       "<strong>png:</strong> 2"
      ],
      "text/latex": [
       "\\textbf{png:} 2"
      ],
      "text/markdown": [
       "**png:** 2"
      ],
      "text/plain": [
       "png \n",
       "  2 "
      ]
     },
     "metadata": {},
     "output_type": "display_data"
    }
   ],
   "source": [
    "jpeg(\"/mnt/lustre/scratch/CBRA/research/projects/tcga_mm/results/03_limma_pathvals/heatmap_porc_circ_sign_sex_limma_pathways.jpeg\", quality = 100, width = 550, height = 800)\n",
    "\n",
    "melt(porc_paths_affect_sex %>% \n",
    "    mutate(same_porc_aprox = case_when(porc_female == porc_male ~ \"YES\",\n",
    "                                 porc_female - porc_male <= 10 ~ \"YES\",\n",
    "                        porc_female != porc_male  ~ \"NO\")) %>% \n",
    "    filter(same_porc_aprox == \"NO\")) %>% \n",
    "    mutate(project_name = case_when(project == \"tcga_brca\" ~ \"Breast invasive carcinoma\",\n",
    "                                    project == \"tcga_coad\" ~ \"Colon adenocarcinoma\",\n",
    "                                    project == \"tcga_esca\" ~ \"Esophageal carcinoma\",\n",
    "                                    project == \"tcga_lgg\" ~ \"Brain Lower Grade Glioma\",\n",
    "                                    project == \"tcga_luad\" ~ \"Lung adenocarcinoma\",\n",
    "                                    project == \"tcga_lusc\" ~ \"Lung squamous cell carcinoma\",\n",
    "                                    project == \"tcga_paad\" ~ \"Pancreatic Adenocarcinoma\",\n",
    "                                    project == \"tcga_skcm\" ~ \"Skin Cutaneous Melanoma\",\n",
    "                                    project == \"tcga_stad\" ~ \"Stomach adenocarcinoma\")) %>% \n",
    "\n",
    "ggplot(aes(x = variable, y = path_phys, fill = value)) +\n",
    "  geom_tile(color = \"white\") + \n",
    "  facet_grid(project_name ~ ., scales = \"free_y\", space = \"free_y\") +\n",
    "  labs(title = \"\", x = \"Sex\", y = \"Physiological pathways\", fill = \"Percentage\", color = \"Legend Title\\n\") + \n",
    "  theme_minimal() + \n",
    "  scale_x_discrete(labels = c(\"porc_female\" = \"Female\", \"porc_male\" = \"Male\")) +\n",
    "  scale_fill_gradient(low = \"#F39B7F\", high = \"#A73030\") + \n",
    "  theme(\n",
    "        strip.text.y = element_text(size = 10, angle = 360),\n",
    "        strip.background = element_rect(colour = \"grey\", fill = \"#66B9B9\"),\n",
    "        legend.position = \"bottom\", \n",
    "        legend.direction = \"horizontal\",\n",
    "        legend.text = element_text(size = 10),\n",
    "        axis.text.x = element_text(size = 10, vjust = 0.5, angle = 90),\n",
    "        axis.text.y = element_text(size = 10, vjust = 0.5),\n",
    "        plot.title = element_text(hjust = 0, size = 14),\n",
    "        panel.grid = element_blank(),  # Remove grid lines from the plot\n",
    "        panel.background = element_blank(),  # Ensure the background doesn't override strip colors\n",
    "        panel.border = element_blank()  # Remove border for a cleaner look\n",
    "  )\n",
    "\n",
    "dev.off()\n"
   ]
  },
  {
   "cell_type": "code",
   "execution_count": 214,
   "id": "6e16697d-72ca-4bac-ad44-c17d4ed74bde",
   "metadata": {},
   "outputs": [
    {
     "data": {
      "text/html": [
       "<style>\n",
       ".list-inline {list-style: none; margin:0; padding: 0}\n",
       ".list-inline>li {display: inline-block}\n",
       ".list-inline>li:not(:last-child)::after {content: \"\\00b7\"; padding: 0 .5ex}\n",
       "</style>\n",
       "<ol class=list-inline><li>79</li><li>2</li></ol>\n"
      ],
      "text/latex": [
       "\\begin{enumerate*}\n",
       "\\item 79\n",
       "\\item 2\n",
       "\\end{enumerate*}\n"
      ],
      "text/markdown": [
       "1. 79\n",
       "2. 2\n",
       "\n",
       "\n"
      ],
      "text/plain": [
       "[1] 79  2"
      ]
     },
     "metadata": {},
     "output_type": "display_data"
    }
   ],
   "source": [
    "n_circs_path <- data.frame(\n",
    "    \"paths\"= physiological_paths$V1,\n",
    "    \"n_circs\"=unlist(lapply(physiological_paths$V2, FUN=function(x) length(grep(x,rownames(pathvals_gtex))))))\n",
    "rownames(n_circs_path) <- n_circs_path$paths\n",
    "dim(n_circs_path)                            "
   ]
  },
  {
   "cell_type": "code",
   "execution_count": 215,
   "id": "51010d15-6479-4bcf-ab36-2f655f450836",
   "metadata": {},
   "outputs": [
    {
     "name": "stderr",
     "output_type": "stream",
     "text": [
      "\u001b[1m\u001b[22m`summarise()` has grouped output by 'sex_project'. You can override using the\n",
      "`.groups` argument.\n",
      "Using perc_sdcirc_paths as value column: use value.var to override.\n",
      "\n"
     ]
    }
   ],
   "source": [
    "n_circs_sig_dif_sex_project <- as.data.frame(circs_sig_dif %>% mutate(\n",
    "    paths = unlist(lapply(circ, FUN=function(x) unlist(strsplit(x,\":\"))[1]))) %>%\n",
    "    mutate(sex_project=paste(sex, project, sep=\"_\")) %>%\n",
    "                          group_by(sex_project, paths) %>% summarise(n=n())) \n",
    "          \n",
    "n_circs_sig_dif_sex_project$perc_sdcirc_paths <- unlist(\n",
    "lapply(1:length(n_circs_sig_dif_sex_project$paths), FUN=function(x) \n",
    "    as.numeric(n_circs_sig_dif_sex_project$n[x])/n_circs_path[n_circs_sig_dif_sex_project$paths[x],\"n_circs\"]*100))\n",
    "\n",
    "write.csv(dcast(n_circs_sig_dif_sex_project, paths ~ sex_project), file=\"/mnt/lustre/scratch/CBRA/research/projects/tcga_mm/results/03_limma_pathvals/perc_circs_sign_diff_in_paths_cancer_type.csv\", row.names=F)        "
   ]
  },
  {
   "cell_type": "code",
   "execution_count": 216,
   "id": "343c9776-265f-409a-a8fd-90f6faa676e4",
   "metadata": {},
   "outputs": [
    {
     "name": "stderr",
     "output_type": "stream",
     "text": [
      "\u001b[1m\u001b[22m`summarise()` has grouped output by 'sex'. You can override using the `.groups`\n",
      "argument.\n",
      "\u001b[1m\u001b[22m`summarise()` has grouped output by 'sex'. You can override using the `.groups`\n",
      "argument.\n",
      "\u001b[1m\u001b[22m`summarise()` has grouped output by 'sex'. You can override using the `.groups`\n",
      "argument.\n",
      "\u001b[1m\u001b[22m`summarise()` has grouped output by 'sex'. You can override using the `.groups`\n",
      "argument.\n",
      "\u001b[1m\u001b[22m`summarise()` has grouped output by 'sex'. You can override using the `.groups`\n",
      "argument.\n"
     ]
    }
   ],
   "source": [
    "paths_n_circ_all_ct_bs <- data.frame(table(unlist(lapply(data.frame(circs_sig_dif %>% group_by(sex,circ) %>% summarise(n=n()) %>% filter(n==9) %>% group_by(circ) %>% \n",
    "summarise(n=n()) %>% filter(n==2))$circ, FUN=function(x) unlist(strsplit(x,\":\"))[1])))) \n",
    "\n",
    "paths_n_circ_all_ct_fem <- data.frame(table(unlist(lapply(data.frame(circs_sig_dif %>% filter(circ %in%\n",
    "data.frame(circs_sig_dif %>% group_by(sex,circ) %>% summarise(n=n()) %>% filter(n==9) %>% group_by(circ) %>% \n",
    "summarise(n=n()) %>% filter(n==1))$circ) %>% group_by(sex,circ) %>% summarise(n=n()) %>% \n",
    "                         filter(n==9 & sex == \"female\"))$circ, FUN=function(x) unlist(strsplit(x,\":\"))[1]))))\n",
    "\n",
    "paths_n_circ_all_ct_mal <- data.frame(table(unlist(lapply(data.frame(circs_sig_dif %>% filter(circ %in%\n",
    "data.frame(circs_sig_dif %>% group_by(sex,circ) %>% summarise(n=n()) %>% filter(n==9) %>% group_by(circ) %>% \n",
    "summarise(n=n()) %>% filter(n==1))$circ) %>% group_by(sex,circ) %>% summarise(n=n()) %>% \n",
    "                               filter(n==9 & sex == \"male\"))$circ, FUN=function(x) unlist(strsplit(x,\":\"))[1]))))"
   ]
  },
  {
   "cell_type": "code",
   "execution_count": 217,
   "id": "b3c45a23-dab5-4118-b6af-28a2a9b1ec52",
   "metadata": {},
   "outputs": [],
   "source": [
    "paths_n_circ_all_ct_bs$perc_circ_bs <- paths_n_circ_all_ct_bs$Freq/n_circs_path[paste(paths_n_circ_all_ct_bs$Var1),\"n_circs\"]*100\n",
    "paths_n_circ_all_ct_fem$perc_circ_fem <- paths_n_circ_all_ct_fem$Freq/n_circs_path[paste(paths_n_circ_all_ct_fem$Var1),\"n_circs\"]*100\n",
    "paths_n_circ_all_ct_mal$perc_circ_mal <- paths_n_circ_all_ct_mal$Freq/n_circs_path[paste(paths_n_circ_all_ct_mal$Var1),\"n_circs\"]*100"
   ]
  },
  {
   "cell_type": "code",
   "execution_count": 218,
   "id": "41828b72-a1a2-48bf-8676-ff9797410f58",
   "metadata": {},
   "outputs": [],
   "source": [
    "perc_path_aff_all_ct <- merge(\n",
    "merge(paths_n_circ_all_ct_bs, paths_n_circ_all_ct_fem, by.x=\"Var1\", by.y=\"Var1\", all.x=T),\n",
    "      paths_n_circ_all_ct_mal, by.x=\"Var1\", by.y=\"Var1\", all.x=T)[,c(\"Var1\", \"perc_circ_bs\", \"perc_circ_fem\", \"perc_circ_mal\")]"
   ]
  },
  {
   "cell_type": "code",
   "execution_count": 278,
   "id": "e91bf09a-4b54-482c-bff4-b4ae4710db9f",
   "metadata": {},
   "outputs": [
    {
     "name": "stderr",
     "output_type": "stream",
     "text": [
      "Using Var1 as id variables\n",
      "\n"
     ]
    },
    {
     "data": {
      "text/html": [
       "<strong>png:</strong> 2"
      ],
      "text/latex": [
       "\\textbf{png:} 2"
      ],
      "text/markdown": [
       "**png:** 2"
      ],
      "text/plain": [
       "png \n",
       "  2 "
      ]
     },
     "metadata": {},
     "output_type": "display_data"
    }
   ],
   "source": [
    "jpeg(\"/mnt/lustre/scratch/CBRA/research/projects/tcga_mm/results/03_limma_pathvals/heatmap_porc_circ_sign_sex_all_cancer_type_limma_pathways.jpeg\", quality = 100, width = 450, height = 700)\n",
    "melt(perc_path_aff_all_ct %>% filter(perc_circ_fem > 0 | perc_circ_mal > 0)) %>% \n",
    "ggplot(aes(x= variable, y = Var1, fill = value)) +\n",
    "  geom_tile(color=\"white\") + #facet_grid(project ~ ., scales = \"free_y\", space = \"free_y\") +\n",
    "  scale_fill_gradient(low = \"#E3C9EB\", high = \"#844288\", na.value=\"white\") + \n",
    "  labs(title = \"\", x = \"Sex\", y = \"Physiological pathways\", fill=\"Percentage\" ,color = \"Legend Title\\n\") + \n",
    "    theme_minimal() + scale_x_discrete(labels=c(\"Both sex\",\"Male\",\"Female\")) +\n",
    "    theme(strip.text.y = element_text(size=10, angle=360), \n",
    "        legend.position=\"right\", legend.direction=\"vertical\",\n",
    "        legend.text=element_text(size=10),\n",
    "        axis.text.x=element_text(size=10,vjust=0.5, angle = 90),\n",
    "        axis.text.y=element_text(size=10,vjust=0.5),\n",
    "        plot.title=element_text(hjust=0, size=14))  \n",
    "dev.off()"
   ]
  },
  {
   "cell_type": "code",
   "execution_count": 220,
   "id": "b8e51836-786e-4857-bf6e-9fd313cec4b5",
   "metadata": {},
   "outputs": [],
   "source": [
    "paths_hallmarks <- read.table(\"/mnt/lustre/scratch/CBRA/research/projects/tcga_mm/data/paths_hallmarks.tsv\",sep=\"\\t\",header = T)\n",
    "hallmarks <- paths_hallmarks[,-c(1,2)]\n",
    "rownames(hallmarks) <- paths_hallmarks[,2]"
   ]
  },
  {
   "cell_type": "code",
   "execution_count": 221,
   "id": "50f00a11-4271-4d9c-a613-66060030f550",
   "metadata": {},
   "outputs": [],
   "source": [
    "physiological_paths <- read.table(\"/mnt/lustre/scratch/CBRA/projects/heterogeneity/data/physiological_paths.tsv\", sep=\"\\t\") "
   ]
  },
  {
   "cell_type": "code",
   "execution_count": 222,
   "id": "fd10f215-0d48-4e8e-b83c-fe87a9998187",
   "metadata": {},
   "outputs": [],
   "source": [
    "hallmarks_phys <- hallmarks[unlist(lapply(physiological_paths$V1, FUN=function(x) grep(x, rownames(hallmarks)))),]"
   ]
  },
  {
   "cell_type": "code",
   "execution_count": 223,
   "id": "49133f05-0959-4798-8d89-9f0207e1ef56",
   "metadata": {},
   "outputs": [],
   "source": [
    "hallmarks_male <- data.frame(do.call(rbind,lapply(proj_tumorvsctrl$tcga, FUN=function(x)\n",
    "apply(na.omit(hallmarks_phys[data.frame(circs_sig_dif %>% filter(project == x & sex==\"male\"))$circ,]), 2, sum))))\n",
    "hallmarks_male$project <- proj_tumorvsctrl$tcga                                         \n",
    "hallmarks_male$sex <- rep(\"male\", length(proj_tumorvsctrl$tcga))                                                                              "
   ]
  },
  {
   "cell_type": "code",
   "execution_count": 224,
   "id": "6d4b65b1-f567-465a-9f29-52754300454a",
   "metadata": {},
   "outputs": [],
   "source": [
    "hallmarks_female <- data.frame(do.call(rbind,lapply(proj_tumorvsctrl$tcga, FUN=function(x)\n",
    "apply(na.omit(hallmarks_phys[data.frame(circs_sig_dif %>% filter(project == x & sex==\"female\"))$circ,]), 2, sum))))\n",
    "hallmarks_female$project <- proj_tumorvsctrl$tcga                                         \n",
    "hallmarks_female$sex <- rep(\"female\", length(proj_tumorvsctrl$tcga))                                                                              "
   ]
  },
  {
   "cell_type": "code",
   "execution_count": 225,
   "id": "096e906b-fad2-45bf-9351-abc3f5bef9fe",
   "metadata": {},
   "outputs": [],
   "source": [
    "hallmarks_tcga <- rbind(hallmarks_male, hallmarks_female)"
   ]
  },
  {
   "cell_type": "code",
   "execution_count": 226,
   "id": "19159af8-a2ba-46fa-86bc-f9d5e523022e",
   "metadata": {},
   "outputs": [],
   "source": [
    "colnames(hallmarks_tcga)[colnames(hallmarks_tcga) == \"INVASION.AND.METASTASIS\"] <- \"Invasion_and_metastasis\"\n",
    "colnames(hallmarks_tcga)[colnames(hallmarks_tcga) == \"IMMUNE.DESTRUCTION\"] <- \"Immune_destruction\"\n",
    "colnames(hallmarks_tcga)[colnames(hallmarks_tcga) == \"CELLULAR.ENERGETICS\"] <- \"Cellular_energetics\"\n",
    "colnames(hallmarks_tcga)[colnames(hallmarks_tcga) == \"REPLICATIVE.IMMORTALITY\"] <- \"Replicate_immortality\"\n",
    "colnames(hallmarks_tcga)[colnames(hallmarks_tcga) == \"EVADING.GROWTH.SUPPRESSORS\"] <- \"Evading_growth_suppressors\"\n",
    "colnames(hallmarks_tcga)[colnames(hallmarks_tcga) == \"GENOME.INSTABILITY.AND.MUTATION\"] <- \"Genome_instability_and_mutation\"\n",
    "colnames(hallmarks_tcga)[colnames(hallmarks_tcga) == \"INDUCING.ANGIOGENESIS\"] <- \"Inducing_angiogenesis\"\n",
    "colnames(hallmarks_tcga)[colnames(hallmarks_tcga) == \"RESISTING.CELL.DEATH\"] <- \"Resisting_cell_death\"\n",
    "colnames(hallmarks_tcga)[colnames(hallmarks_tcga) == \"SUSTAINING.PROLIFERATIVE.SIGNALING\"] <- \"Sustaining_proliferative_signaling\"\n",
    "colnames(hallmarks_tcga)[colnames(hallmarks_tcga) == \"TUMOR.PROMOTING.INFLAMMATION\"] <- \"Tumor_promoting_inflammation\""
   ]
  },
  {
   "cell_type": "code",
   "execution_count": 227,
   "id": "0687213e-171c-4eb7-ba04-bae865111cbb",
   "metadata": {},
   "outputs": [],
   "source": [
    "scores <- hallmarks_tcga[,-c(11,12)]\n",
    "normalized_scores <- apply(scores, 2, function(x) (x - min(x)) / (max(x) - min(x)))"
   ]
  },
  {
   "cell_type": "code",
   "execution_count": 228,
   "id": "2356f604-fb00-42a9-a2e4-4d1381862101",
   "metadata": {},
   "outputs": [],
   "source": [
    "names_project <- data.frame(\"project\" = c(\"tcga_brca\",\"tcga_coad\",\"tcga_esca\",\"tcga_lgg\",\"tcga_luad\",\"tcga_lusc\",\"tcga_paad\",\"tcga_skcm\",\"tcga_stad\"),\n",
    "                            \"name\"=c(\"Breast invasive carcinoma\",\"Colon adenocarcinoma\",\"Esophageal carcinoma\",\"Brain Lower Grade Glioma\",\"Lung adenocarcinoma\",\"Lung squamous cell carcinoma\",\"Pancreatic Adenocarcinoma\",\"Skin Cutaneous Melanoma\",\"Stomach adenocarcinoma\")) \n",
    "rownames(names_project) <- names_project$project"
   ]
  },
  {
   "cell_type": "code",
   "execution_count": 229,
   "id": "c2921aea-90f8-4fd5-887c-b6eae749b837",
   "metadata": {},
   "outputs": [],
   "source": [
    "radar_plot_per_project <- function(project){\n",
    "df_project <- data.frame(normalized_scores[which(hallmarks_tcga$project == project),])\n",
    "max_min <- data.frame(\n",
    "  Invasion_and_metastasis = c(1, 0),\n",
    "  Immune_destruction = c(1, 0),\n",
    "  Cellular_energetics = c(1, 0),\n",
    "  Replicate_immortality = c(1, 0),\n",
    "  Evading_growth_suppressors = c(1, 0),\n",
    "  Genome_instability_and_mutation = c(1, 0),\n",
    "  Inducing_angiogenesis = c(1, 0),\n",
    "  Resisting_cell_death = c(1, 0),\n",
    "  Sustaining_proliferative_signaling = c(1, 0),\n",
    "  Tumor_promoting_inflammation = c(1, 0)\n",
    ")\n",
    "\n",
    "# Combine the max_min and df\n",
    "df_project <- rbind(max_min, df_project)\n",
    "\n",
    "colors_border <- c(\"blue\", \"red\")\n",
    "\n",
    "jpeg(paste(\"/mnt/lustre/scratch/CBRA/research/projects/tcga_mm/results/03_limma_pathvals/hallmark_limma_pathways\",project,\".jpeg\",sep=\"\"), quality = 100, width = 850, height = 700)\n",
    "\n",
    "# Create the radar chart\n",
    "radarchart(\n",
    "  df_project,\n",
    "  # Customizing the plot\n",
    "  pcol = colors_border,\n",
    " # pfcol = colors_fill,\n",
    "  plwd = 2,\n",
    "  plty = 1,\n",
    "  cglcol = \"grey\",\n",
    "  cglty = 1,\n",
    "  axislabcol = \"black\",\n",
    "  caxislabels = seq(0, 1, 0.2),\n",
    "  vlcex = 0.8,\n",
    ")\n",
    "legend(\n",
    "  x = 1.2, y = 1,\n",
    "  legend = hallmarks_tcga[which(hallmarks_tcga$project == project),\"sex\"],\n",
    "  bty = \"n\", pch = 20,\n",
    "  col = colors_border, text.col = \"black\", cex = 0.8\n",
    ")\n",
    "title(main = names_project[project,\"name\"])\n",
    "dev.off()\n",
    "}"
   ]
  },
  {
   "cell_type": "code",
   "execution_count": 230,
   "id": "08a81665-834a-4c06-b6f5-233a2a6a6439",
   "metadata": {},
   "outputs": [
    {
     "data": {
      "text/html": [
       "<ol>\n",
       "\t<li><strong>png:</strong> 2</li>\n",
       "\t<li><strong>png:</strong> 2</li>\n",
       "\t<li><strong>png:</strong> 2</li>\n",
       "\t<li><strong>png:</strong> 2</li>\n",
       "\t<li><strong>png:</strong> 2</li>\n",
       "\t<li><strong>png:</strong> 2</li>\n",
       "\t<li><strong>png:</strong> 2</li>\n",
       "\t<li><strong>png:</strong> 2</li>\n",
       "\t<li><strong>png:</strong> 2</li>\n",
       "</ol>\n"
      ],
      "text/latex": [
       "\\begin{enumerate}\n",
       "\\item \\textbf{png:} 2\n",
       "\\item \\textbf{png:} 2\n",
       "\\item \\textbf{png:} 2\n",
       "\\item \\textbf{png:} 2\n",
       "\\item \\textbf{png:} 2\n",
       "\\item \\textbf{png:} 2\n",
       "\\item \\textbf{png:} 2\n",
       "\\item \\textbf{png:} 2\n",
       "\\item \\textbf{png:} 2\n",
       "\\end{enumerate}\n"
      ],
      "text/markdown": [
       "1. **png:** 2\n",
       "2. **png:** 2\n",
       "3. **png:** 2\n",
       "4. **png:** 2\n",
       "5. **png:** 2\n",
       "6. **png:** 2\n",
       "7. **png:** 2\n",
       "8. **png:** 2\n",
       "9. **png:** 2\n",
       "\n",
       "\n"
      ],
      "text/plain": [
       "[[1]]\n",
       "png \n",
       "  2 \n",
       "\n",
       "[[2]]\n",
       "png \n",
       "  2 \n",
       "\n",
       "[[3]]\n",
       "png \n",
       "  2 \n",
       "\n",
       "[[4]]\n",
       "png \n",
       "  2 \n",
       "\n",
       "[[5]]\n",
       "png \n",
       "  2 \n",
       "\n",
       "[[6]]\n",
       "png \n",
       "  2 \n",
       "\n",
       "[[7]]\n",
       "png \n",
       "  2 \n",
       "\n",
       "[[8]]\n",
       "png \n",
       "  2 \n",
       "\n",
       "[[9]]\n",
       "png \n",
       "  2 \n"
      ]
     },
     "metadata": {},
     "output_type": "display_data"
    }
   ],
   "source": [
    "lapply(names_project$project, FUN=function(x) radar_plot_per_project(x))"
   ]
  },
  {
   "cell_type": "code",
   "execution_count": 231,
   "id": "db8faf59-fbbf-495d-b2f4-50d34e78bd47",
   "metadata": {},
   "outputs": [
    {
     "data": {
      "text/html": [
       "<style>\n",
       ".list-inline {list-style: none; margin:0; padding: 0}\n",
       ".list-inline>li {display: inline-block}\n",
       ".list-inline>li:not(:last-child)::after {content: \"\\00b7\"; padding: 0 .5ex}\n",
       "</style>\n",
       "<ol class=list-inline><li>'male'</li><li>'female'</li></ol>\n"
      ],
      "text/latex": [
       "\\begin{enumerate*}\n",
       "\\item 'male'\n",
       "\\item 'female'\n",
       "\\end{enumerate*}\n"
      ],
      "text/markdown": [
       "1. 'male'\n",
       "2. 'female'\n",
       "\n",
       "\n"
      ],
      "text/plain": [
       "[1] \"male\"   \"female\""
      ]
     },
     "metadata": {},
     "output_type": "display_data"
    }
   ],
   "source": [
    "hallmarks_tcga[which(hallmarks_tcga$project == \"tcga_brca\"),\"sex\"]"
   ]
  },
  {
   "cell_type": "code",
   "execution_count": 232,
   "id": "41c652a9-e836-4f65-9d20-739868ec1d5d",
   "metadata": {},
   "outputs": [],
   "source": [
    "library(fmsb)\n",
    "library(png)  # For loading JPEG images"
   ]
  },
  {
   "cell_type": "code",
   "execution_count": 250,
   "id": "01e83b96-3012-4bb0-8812-6f62596c7e81",
   "metadata": {},
   "outputs": [],
   "source": [
    "img <- readPNG(\"/mnt/lustre/scratch/CBRA/research/projects/tcga_mm/results/03_limma_pathvals/hallmarks_index.png\")"
   ]
  },
  {
   "cell_type": "code",
   "execution_count": 251,
   "id": "4f4af618-590c-4084-9ee9-ceaa014d1542",
   "metadata": {},
   "outputs": [
    {
     "data": {
      "text/html": [
       "<strong>png:</strong> 2"
      ],
      "text/latex": [
       "\\textbf{png:} 2"
      ],
      "text/markdown": [
       "**png:** 2"
      ],
      "text/plain": [
       "png \n",
       "  2 "
      ]
     },
     "metadata": {},
     "output_type": "display_data"
    },
    {
     "data": {
      "text/html": [
       "<strong>png:</strong> 2"
      ],
      "text/latex": [
       "\\textbf{png:} 2"
      ],
      "text/markdown": [
       "**png:** 2"
      ],
      "text/plain": [
       "png \n",
       "  2 "
      ]
     },
     "metadata": {},
     "output_type": "display_data"
    }
   ],
   "source": [
    "df_female <- data.frame(normalized_scores[which(hallmarks_tcga$sex == \"female\"),])\n",
    "df_male <- data.frame(normalized_scores[which(hallmarks_tcga$sex == \"male\"),])\n",
    "\n",
    "# Add maximum and minimum rows for scaling\n",
    "max_min <- data.frame(\n",
    "  Invasion_and_metastasis = c(1, 0),\n",
    "  Immune_destruction = c(1, 0),\n",
    "  Cellular_energetics = c(1, 0),\n",
    "  Replicate_immortality = c(1, 0),\n",
    "  Evading_growth_suppressors = c(1, 0),\n",
    "  Genome_instability_and_mutation = c(1, 0),\n",
    "  Inducing_angiogenesis = c(1, 0),\n",
    "  Resisting_cell_death = c(1, 0),\n",
    "  Sustaining_proliferative_signaling = c(1, 0),\n",
    "  Tumor_promoting_inflammation = c(1, 0)\n",
    ")\n",
    "\n",
    "# Combine the max_min and df\n",
    "df_female <- rbind(max_min, df_female)\n",
    "df_male <- rbind(max_min, df_male)\n",
    "\n",
    "\n",
    "colors_border <- c(\"red\", \"blue\", \"green\", \"orange\", \"purple\", \"cyan\", \"magenta\", \"brown\", \"yellow\")\n",
    "\n",
    "jpeg(\"/mnt/lustre/scratch/CBRA/research/projects/tcga_mm/results/03_limma_pathvals/hallmark_female_limma_pathways.jpeg\", quality = 100, width = 850, height = 700)\n",
    "radarchart(\n",
    "  df_female[,c('Evading_growth_suppressors','Sustaining_proliferative_signaling','Cellular_energetics','Resisting_cell_death','Genome_instability_and_mutation','Inducing_angiogenesis','Invasion_and_metastasis','Tumor_promoting_inflammation','Replicate_immortality','Immune_destruction')],\n",
    "  # Customizing the plot\n",
    "  pcol = colors_border,\n",
    "  # pfcol = colors_fill,\n",
    "  plwd = 2,\n",
    "  plty = 1,\n",
    "  cglcol = \"grey\",\n",
    "  cglty = 1,\n",
    "  axislabcol = \"black\",\n",
    "  caxislabels = seq(0, 1, 0.2),\n",
    "  vlcex = 0, # No axis labels,\n",
    "    vlabels = rep(\"\", nrow(df_male))\n",
    ")\n",
    "\n",
    "# Add a legend\n",
    "legend(\n",
    "  x = 1.2, y = 1,\n",
    "  legend = toupper(gsub(\"_\",\"-\",proj_tumorvsctrl$tcga)),\n",
    "  bty = \"n\", pch = 20, \n",
    "  col = colors_border, text.col = \"black\", cex = 0.8\n",
    ")\n",
    "dev.off()\n",
    "\n",
    "jpeg(\"/mnt/lustre/scratch/CBRA/research/projects/tcga_mm/results/03_limma_pathvals/hallmark_male_limma_pathways.jpeg\", quality = 100, width = 700, height = 850)\n",
    "\n",
    "radarchart(\n",
    "  df_male[,c('Evading_growth_suppressors','Sustaining_proliferative_signaling','Cellular_energetics','Resisting_cell_death','Genome_instability_and_mutation','Inducing_angiogenesis','Invasion_and_metastasis','Tumor_promoting_inflammation','Replicate_immortality','Immune_destruction')],\n",
    "  # Customizing the plot\n",
    "  pcol = colors_border,\n",
    "  # pfcol = colors_fill,\n",
    "  plwd = 2,\n",
    "  plty = 1,\n",
    "  cglcol = \"grey\",\n",
    "  cglty = 1,\n",
    "  axislabcol = \"black\",\n",
    "  caxislabels = seq(0, 1, 0.2),\n",
    "  vlcex = 0, # No axis labels,\n",
    "    vlabels = rep(\"\", nrow(df_male))\n",
    ")\n",
    "\n",
    "# Add a legend\n",
    "legend(\n",
    "  x = 1.2, y = 1,\n",
    "  legend = toupper(gsub(\"_\",\"-\",proj_tumorvsctrl$tcga)),\n",
    "  bty = \"n\", pch = 20,\n",
    "  col = colors_border, text.col = \"black\", cex = 0.8\n",
    ")\n",
    "dev.off()"
   ]
  },
  {
   "cell_type": "code",
   "execution_count": 187,
   "id": "67edddde-1cbe-4fe3-9111-6b29cf8cb42b",
   "metadata": {},
   "outputs": [
    {
     "data": {
      "text/html": [
       "<style>\n",
       ".list-inline {list-style: none; margin:0; padding: 0}\n",
       ".list-inline>li {display: inline-block}\n",
       ".list-inline>li:not(:last-child)::after {content: \"\\00b7\"; padding: 0 .5ex}\n",
       "</style>\n",
       "<ol class=list-inline><li>'Evading_growth_suppressors'</li><li>'Immune_destruction'</li><li>'Replicate_immortality'</li><li>'Tumor_promoting_inflammation'</li><li>'Invasion_and_metastasis'</li><li>'Inducing_angiogenesis'</li><li>'Genome_instability_and_mutation'</li><li>'Resisting_cell_death'</li><li>'Cellular_energetics'</li><li>'Sustaining_proliferative_signaling'</li></ol>\n"
      ],
      "text/latex": [
       "\\begin{enumerate*}\n",
       "\\item 'Evading\\_growth\\_suppressors'\n",
       "\\item 'Immune\\_destruction'\n",
       "\\item 'Replicate\\_immortality'\n",
       "\\item 'Tumor\\_promoting\\_inflammation'\n",
       "\\item 'Invasion\\_and\\_metastasis'\n",
       "\\item 'Inducing\\_angiogenesis'\n",
       "\\item 'Genome\\_instability\\_and\\_mutation'\n",
       "\\item 'Resisting\\_cell\\_death'\n",
       "\\item 'Cellular\\_energetics'\n",
       "\\item 'Sustaining\\_proliferative\\_signaling'\n",
       "\\end{enumerate*}\n"
      ],
      "text/markdown": [
       "1. 'Evading_growth_suppressors'\n",
       "2. 'Immune_destruction'\n",
       "3. 'Replicate_immortality'\n",
       "4. 'Tumor_promoting_inflammation'\n",
       "5. 'Invasion_and_metastasis'\n",
       "6. 'Inducing_angiogenesis'\n",
       "7. 'Genome_instability_and_mutation'\n",
       "8. 'Resisting_cell_death'\n",
       "9. 'Cellular_energetics'\n",
       "10. 'Sustaining_proliferative_signaling'\n",
       "\n",
       "\n"
      ],
      "text/plain": [
       " [1] \"Evading_growth_suppressors\"         \"Immune_destruction\"                \n",
       " [3] \"Replicate_immortality\"              \"Tumor_promoting_inflammation\"      \n",
       " [5] \"Invasion_and_metastasis\"            \"Inducing_angiogenesis\"             \n",
       " [7] \"Genome_instability_and_mutation\"    \"Resisting_cell_death\"              \n",
       " [9] \"Cellular_energetics\"                \"Sustaining_proliferative_signaling\""
      ]
     },
     "metadata": {},
     "output_type": "display_data"
    }
   ],
   "source": [
    "colnames(df_male)[c(5,2,4,10,1,7,6,8,3,9)]"
   ]
  },
  {
   "cell_type": "code",
   "execution_count": 197,
   "id": "4a4bf0d0-2e41-46d1-b7ed-780438fc0fb9",
   "metadata": {},
   "outputs": [
    {
     "data": {
      "text/html": [
       "<strong>png:</strong> 2"
      ],
      "text/latex": [
       "\\textbf{png:} 2"
      ],
      "text/markdown": [
       "**png:** 2"
      ],
      "text/plain": [
       "png \n",
       "  2 "
      ]
     },
     "metadata": {},
     "output_type": "display_data"
    }
   ],
   "source": [
    "jpeg(\"/mnt/lustre/scratch/CBRA/research/projects/tcga_mm/results/03_limma_pathvals/hallmark_male_limma_pathways.jpeg\", quality = 100, width = 700, height = 850)\n",
    "\n",
    "\n",
    "dev.off()"
   ]
  },
  {
   "cell_type": "code",
   "execution_count": 70,
   "id": "39e9cb77-b847-4d9e-87a5-62a2b8b16059",
   "metadata": {},
   "outputs": [],
   "source": [
    "df <- normalized_scores\n",
    "get_top_2 <- function(row) {\n",
    "  sorted_indices <- order(row, decreasing = TRUE)\n",
    "  top_2_values <- row[sorted_indices[1:2]]\n",
    "  top_2_columns <- names(row)[sorted_indices[1:2]]\n",
    "  return(list(values = top_2_values, columns = top_2_columns))\n",
    "}\n",
    "\n",
    "# Apply the function row-wise to get top 2 values and columns\n",
    "top_2_values_columns <- apply(df, 1, get_top_2)\n",
    "hallmark_more_freq <- do.call(rbind,lapply(1:length(top_2_values_columns), FUN=function(x) top_2_values_columns[[x]]$columns))\n",
    "hallmark_more_freq <- cbind(hallmarks_tcga[,c(11,12)],hallmark_more_freq)\n",
    "colnames(hallmark_more_freq) <- c(\"project\",\"sex\",\"hall1\",\"hall2\")  "
   ]
  },
  {
   "cell_type": "code",
   "execution_count": 84,
   "id": "b04abfca-d32e-4dfb-aea5-54f8749fae57",
   "metadata": {},
   "outputs": [
    {
     "data": {
      "text/html": [
       "<strong>png:</strong> 2"
      ],
      "text/latex": [
       "\\textbf{png:} 2"
      ],
      "text/markdown": [
       "**png:** 2"
      ],
      "text/plain": [
       "png \n",
       "  2 "
      ]
     },
     "metadata": {},
     "output_type": "display_data"
    }
   ],
   "source": [
    "filter_logfc_q98_funct <- function(x){\n",
    "\n",
    "filtered_data_female <- circs_sig_dif %>%\n",
    "  filter(project == x & sex == \"female\")\n",
    "\n",
    "# Extract logFC values\n",
    "logFC_values_female <- filtered_data_female$logFC\n",
    "\n",
    "# Calculate the absolute values\n",
    "abs_logFC_values_female <- abs(logFC_values_female)\n",
    "\n",
    "# Compute the 98th quantile\n",
    "q98_female <- quantile(abs_logFC_values_female, 0.98)\n",
    "\n",
    "filtered_data_male <- circs_sig_dif %>%\n",
    "  filter(project == x & sex == \"male\")\n",
    "\n",
    "# Extract logFC values\n",
    "logFC_values_male <- filtered_data_male$logFC\n",
    "\n",
    "# Calculate the absolute values\n",
    "abs_logFC_values_male <- abs(logFC_values_male)\n",
    "\n",
    "# Compute the 98th quantile\n",
    "q98_male <- quantile(abs_logFC_values_male, 0.98)\n",
    "\n",
    "return(rbind(filtered_data_female[abs_logFC_values_female > q98_female,c(\"circ\",\"sex\",\"project\",\"logFC\")],\n",
    "filtered_data_male[abs_logFC_values_male > q98_male,c(\"circ\",\"sex\",\"project\",\"logFC\")]))\n",
    "}\n",
    "\n",
    "circ_sign_logfc_q98 <- do.call(rbind,(lapply(proj_tumorvsctrl$tcga, FUN=function(x) filter_logfc_q98_funct(x))))\n",
    "circ_sign_logfc_q98 <- circ_sign_logfc_q98 %>%\n",
    "  mutate(sex = ifelse(sex == \"female\", \"Female\", \"Male\"))\n",
    "circ_sign_logfc_q98 <- circ_sign_logfc_q98 %>%\n",
    "  mutate(project = toupper(gsub(\"_\", \"-\", project)))\n",
    "                                             \n",
    "jpeg(\"/mnt/lustre/scratch/CBRA/research/projects/tcga_mm/results/03_limma_pathvals/heatmap_circ_sign_logfc_q98_limma_pathways.jpeg\", quality = 100, width = 700, height = 1200)\n",
    "circ_sign_logfc_q98 %>%\n",
    "ggplot(aes(x=sex , y = circ, fill = logFC)) +\n",
    "geom_tile(color = \"white\") +\n",
    "  facet_grid(. ~ project, scales = \"free_y\", space = \"free_y\") +\n",
    "  labs(\n",
    "    title = \"\",\n",
    "    x = \"\",\n",
    "    y = \"Sign. cell. sign. circuits |logFC| > 98Q\",\n",
    "    fill = \"LogFC\"\n",
    "  ) +\n",
    "  scale_fill_gradient2(low = \"darkred\", mid = \"white\", high = \"darkgreen\", midpoint = 0, na.value = \"grey50\") +  # Adjust gradient colors as needed\n",
    "  theme_minimal() + theme(\n",
    "    axis.text.y = element_text(size = 8), \n",
    "          axis.text.x = element_text(angle = 90, vjust = 0.5, hjust = 1),\n",
    "      strip.text.x = element_text(angle = 90)# Rotate x-axis labels vertically# Adjust the size as needed\n",
    "  )\n",
    "dev.off()"
   ]
  },
  {
   "cell_type": "code",
   "execution_count": 72,
   "id": "d2899dc9-4920-437c-9456-23b162dfe497",
   "metadata": {},
   "outputs": [],
   "source": [
    "circs_sig_dif$path <- unlist(lapply(circs_sig_dif$circ, FUN=function(x) unlist(strsplit(x,\":\"))[1]))"
   ]
  },
  {
   "cell_type": "code",
   "execution_count": 73,
   "id": "3ff5622a-c11e-4ed5-8f5c-eb55e7f26038",
   "metadata": {},
   "outputs": [
    {
     "name": "stderr",
     "output_type": "stream",
     "text": [
      "\u001b[1m\u001b[22m`summarise()` has grouped output by 'sex'. You can override using the `.groups`\n",
      "argument.\n"
     ]
    },
    {
     "data": {
      "text/html": [
       "<strong>png:</strong> 2"
      ],
      "text/latex": [
       "\\textbf{png:} 2"
      ],
      "text/markdown": [
       "**png:** 2"
      ],
      "text/plain": [
       "png \n",
       "  2 "
      ]
     },
     "metadata": {},
     "output_type": "display_data"
    }
   ],
   "source": [
    "jpeg(\"interpretation.jpeg\", quality = 100, width = 850, height = 700)\n",
    "circs_sig_dif %>% filter(project==\"tcga_brca\") %>% group_by(sex,path) %>% summarise(n=n()) %>% \n",
    "ggplot(aes(x=path, y=n, fill=sex)) +\n",
    "  geom_bar(stat = \"identity\") +\n",
    "  coord_flip() + # Flip coordinates for better readability\n",
    "  labs(title = \"Pathway Frequencies by Sex\",\n",
    "       x = \"Pathway\",\n",
    "       y = \"Frequency\") +\n",
    "  theme_minimal() +\n",
    "  theme(axis.text.x = element_text(angle = 45, hjust = 1))\n",
    "dev.off()"
   ]
  },
  {
   "cell_type": "code",
   "execution_count": 74,
   "id": "c34003f9-d0ba-496d-a71f-1d88813e4fd5",
   "metadata": {},
   "outputs": [
    {
     "name": "stderr",
     "output_type": "stream",
     "text": [
      "\u001b[1m\u001b[22m`summarise()` has grouped output by 'sex', 'project'. You can override using\n",
      "the `.groups` argument.\n",
      "\u001b[1m\u001b[22m`summarise()` has grouped output by 'project'. You can override using the\n",
      "`.groups` argument.\n"
     ]
    },
    {
     "data": {
      "text/html": [
       "<table class=\"dataframe\">\n",
       "<caption>A grouped_df: 155 × 3</caption>\n",
       "<thead>\n",
       "\t<tr><th scope=col>project</th><th scope=col>path</th><th scope=col>n</th></tr>\n",
       "\t<tr><th scope=col>&lt;chr&gt;</th><th scope=col>&lt;chr&gt;</th><th scope=col>&lt;int&gt;</th></tr>\n",
       "</thead>\n",
       "<tbody>\n",
       "\t<tr><td>tcga_brca</td><td>AMPK signaling pathway              </td><td>2</td></tr>\n",
       "\t<tr><td>tcga_brca</td><td>Apoptosis                           </td><td>2</td></tr>\n",
       "\t<tr><td>tcga_brca</td><td>Axon guidance                       </td><td>2</td></tr>\n",
       "\t<tr><td>tcga_brca</td><td>ErbB signaling pathway              </td><td>1</td></tr>\n",
       "\t<tr><td>tcga_brca</td><td>HIF-1 signaling pathway             </td><td>2</td></tr>\n",
       "\t<tr><td>tcga_brca</td><td>Hippo signaling pathway             </td><td>2</td></tr>\n",
       "\t<tr><td>tcga_brca</td><td>MAPK signaling pathway              </td><td>2</td></tr>\n",
       "\t<tr><td>tcga_brca</td><td>NF-kappa B signaling pathway        </td><td>2</td></tr>\n",
       "\t<tr><td>tcga_brca</td><td>PI3K-Akt signaling pathway          </td><td>2</td></tr>\n",
       "\t<tr><td>tcga_brca</td><td>PPAR signaling pathway              </td><td>2</td></tr>\n",
       "\t<tr><td>tcga_brca</td><td>Ras signaling pathway               </td><td>2</td></tr>\n",
       "\t<tr><td>tcga_brca</td><td>Thyroid hormone signaling pathway   </td><td>2</td></tr>\n",
       "\t<tr><td>tcga_brca</td><td>Tight junction                      </td><td>2</td></tr>\n",
       "\t<tr><td>tcga_brca</td><td>Toll-like receptor signaling pathway</td><td>1</td></tr>\n",
       "\t<tr><td>tcga_brca</td><td>cAMP signaling pathway              </td><td>2</td></tr>\n",
       "\t<tr><td>tcga_brca</td><td>cGMP-PKG signaling pathway          </td><td>1</td></tr>\n",
       "\t<tr><td>tcga_coad</td><td>AMPK signaling pathway              </td><td>2</td></tr>\n",
       "\t<tr><td>tcga_coad</td><td>Apoptosis                           </td><td>2</td></tr>\n",
       "\t<tr><td>tcga_coad</td><td>Axon guidance                       </td><td>2</td></tr>\n",
       "\t<tr><td>tcga_coad</td><td>ErbB signaling pathway              </td><td>1</td></tr>\n",
       "\t<tr><td>tcga_coad</td><td>HIF-1 signaling pathway             </td><td>2</td></tr>\n",
       "\t<tr><td>tcga_coad</td><td>Hippo signaling pathway             </td><td>2</td></tr>\n",
       "\t<tr><td>tcga_coad</td><td>MAPK signaling pathway              </td><td>2</td></tr>\n",
       "\t<tr><td>tcga_coad</td><td>NF-kappa B signaling pathway        </td><td>2</td></tr>\n",
       "\t<tr><td>tcga_coad</td><td>Oxytocin signaling pathway          </td><td>2</td></tr>\n",
       "\t<tr><td>tcga_coad</td><td>PI3K-Akt signaling pathway          </td><td>2</td></tr>\n",
       "\t<tr><td>tcga_coad</td><td>PPAR signaling pathway              </td><td>2</td></tr>\n",
       "\t<tr><td>tcga_coad</td><td>Ras signaling pathway               </td><td>2</td></tr>\n",
       "\t<tr><td>tcga_coad</td><td>Thyroid hormone signaling pathway   </td><td>2</td></tr>\n",
       "\t<tr><td>tcga_coad</td><td>Tight junction                      </td><td>2</td></tr>\n",
       "\t<tr><td>⋮</td><td>⋮</td><td>⋮</td></tr>\n",
       "\t<tr><td>tcga_skcm</td><td>HIF-1 signaling pathway             </td><td>2</td></tr>\n",
       "\t<tr><td>tcga_skcm</td><td>Hippo signaling pathway             </td><td>2</td></tr>\n",
       "\t<tr><td>tcga_skcm</td><td>MAPK signaling pathway              </td><td>2</td></tr>\n",
       "\t<tr><td>tcga_skcm</td><td>NF-kappa B signaling pathway        </td><td>2</td></tr>\n",
       "\t<tr><td>tcga_skcm</td><td>Oxytocin signaling pathway          </td><td>2</td></tr>\n",
       "\t<tr><td>tcga_skcm</td><td>PI3K-Akt signaling pathway          </td><td>2</td></tr>\n",
       "\t<tr><td>tcga_skcm</td><td>PPAR signaling pathway              </td><td>2</td></tr>\n",
       "\t<tr><td>tcga_skcm</td><td>Ras signaling pathway               </td><td>2</td></tr>\n",
       "\t<tr><td>tcga_skcm</td><td>Thyroid hormone signaling pathway   </td><td>2</td></tr>\n",
       "\t<tr><td>tcga_skcm</td><td>Tight junction                      </td><td>2</td></tr>\n",
       "\t<tr><td>tcga_skcm</td><td>Toll-like receptor signaling pathway</td><td>1</td></tr>\n",
       "\t<tr><td>tcga_skcm</td><td>cAMP signaling pathway              </td><td>2</td></tr>\n",
       "\t<tr><td>tcga_skcm</td><td>cGMP-PKG signaling pathway          </td><td>2</td></tr>\n",
       "\t<tr><td>tcga_stad</td><td>AMPK signaling pathway              </td><td>2</td></tr>\n",
       "\t<tr><td>tcga_stad</td><td>Apoptosis                           </td><td>2</td></tr>\n",
       "\t<tr><td>tcga_stad</td><td>Axon guidance                       </td><td>2</td></tr>\n",
       "\t<tr><td>tcga_stad</td><td>ErbB signaling pathway              </td><td>2</td></tr>\n",
       "\t<tr><td>tcga_stad</td><td>HIF-1 signaling pathway             </td><td>2</td></tr>\n",
       "\t<tr><td>tcga_stad</td><td>Hippo signaling pathway             </td><td>2</td></tr>\n",
       "\t<tr><td>tcga_stad</td><td>MAPK signaling pathway              </td><td>2</td></tr>\n",
       "\t<tr><td>tcga_stad</td><td>NF-kappa B signaling pathway        </td><td>2</td></tr>\n",
       "\t<tr><td>tcga_stad</td><td>Oxytocin signaling pathway          </td><td>2</td></tr>\n",
       "\t<tr><td>tcga_stad</td><td>PI3K-Akt signaling pathway          </td><td>2</td></tr>\n",
       "\t<tr><td>tcga_stad</td><td>PPAR signaling pathway              </td><td>2</td></tr>\n",
       "\t<tr><td>tcga_stad</td><td>Ras signaling pathway               </td><td>2</td></tr>\n",
       "\t<tr><td>tcga_stad</td><td>Thyroid hormone signaling pathway   </td><td>2</td></tr>\n",
       "\t<tr><td>tcga_stad</td><td>Tight junction                      </td><td>2</td></tr>\n",
       "\t<tr><td>tcga_stad</td><td>Toll-like receptor signaling pathway</td><td>2</td></tr>\n",
       "\t<tr><td>tcga_stad</td><td>cAMP signaling pathway              </td><td>1</td></tr>\n",
       "\t<tr><td>tcga_stad</td><td>cGMP-PKG signaling pathway          </td><td>2</td></tr>\n",
       "</tbody>\n",
       "</table>\n"
      ],
      "text/latex": [
       "A grouped\\_df: 155 × 3\n",
       "\\begin{tabular}{lll}\n",
       " project & path & n\\\\\n",
       " <chr> & <chr> & <int>\\\\\n",
       "\\hline\n",
       "\t tcga\\_brca & AMPK signaling pathway               & 2\\\\\n",
       "\t tcga\\_brca & Apoptosis                            & 2\\\\\n",
       "\t tcga\\_brca & Axon guidance                        & 2\\\\\n",
       "\t tcga\\_brca & ErbB signaling pathway               & 1\\\\\n",
       "\t tcga\\_brca & HIF-1 signaling pathway              & 2\\\\\n",
       "\t tcga\\_brca & Hippo signaling pathway              & 2\\\\\n",
       "\t tcga\\_brca & MAPK signaling pathway               & 2\\\\\n",
       "\t tcga\\_brca & NF-kappa B signaling pathway         & 2\\\\\n",
       "\t tcga\\_brca & PI3K-Akt signaling pathway           & 2\\\\\n",
       "\t tcga\\_brca & PPAR signaling pathway               & 2\\\\\n",
       "\t tcga\\_brca & Ras signaling pathway                & 2\\\\\n",
       "\t tcga\\_brca & Thyroid hormone signaling pathway    & 2\\\\\n",
       "\t tcga\\_brca & Tight junction                       & 2\\\\\n",
       "\t tcga\\_brca & Toll-like receptor signaling pathway & 1\\\\\n",
       "\t tcga\\_brca & cAMP signaling pathway               & 2\\\\\n",
       "\t tcga\\_brca & cGMP-PKG signaling pathway           & 1\\\\\n",
       "\t tcga\\_coad & AMPK signaling pathway               & 2\\\\\n",
       "\t tcga\\_coad & Apoptosis                            & 2\\\\\n",
       "\t tcga\\_coad & Axon guidance                        & 2\\\\\n",
       "\t tcga\\_coad & ErbB signaling pathway               & 1\\\\\n",
       "\t tcga\\_coad & HIF-1 signaling pathway              & 2\\\\\n",
       "\t tcga\\_coad & Hippo signaling pathway              & 2\\\\\n",
       "\t tcga\\_coad & MAPK signaling pathway               & 2\\\\\n",
       "\t tcga\\_coad & NF-kappa B signaling pathway         & 2\\\\\n",
       "\t tcga\\_coad & Oxytocin signaling pathway           & 2\\\\\n",
       "\t tcga\\_coad & PI3K-Akt signaling pathway           & 2\\\\\n",
       "\t tcga\\_coad & PPAR signaling pathway               & 2\\\\\n",
       "\t tcga\\_coad & Ras signaling pathway                & 2\\\\\n",
       "\t tcga\\_coad & Thyroid hormone signaling pathway    & 2\\\\\n",
       "\t tcga\\_coad & Tight junction                       & 2\\\\\n",
       "\t ⋮ & ⋮ & ⋮\\\\\n",
       "\t tcga\\_skcm & HIF-1 signaling pathway              & 2\\\\\n",
       "\t tcga\\_skcm & Hippo signaling pathway              & 2\\\\\n",
       "\t tcga\\_skcm & MAPK signaling pathway               & 2\\\\\n",
       "\t tcga\\_skcm & NF-kappa B signaling pathway         & 2\\\\\n",
       "\t tcga\\_skcm & Oxytocin signaling pathway           & 2\\\\\n",
       "\t tcga\\_skcm & PI3K-Akt signaling pathway           & 2\\\\\n",
       "\t tcga\\_skcm & PPAR signaling pathway               & 2\\\\\n",
       "\t tcga\\_skcm & Ras signaling pathway                & 2\\\\\n",
       "\t tcga\\_skcm & Thyroid hormone signaling pathway    & 2\\\\\n",
       "\t tcga\\_skcm & Tight junction                       & 2\\\\\n",
       "\t tcga\\_skcm & Toll-like receptor signaling pathway & 1\\\\\n",
       "\t tcga\\_skcm & cAMP signaling pathway               & 2\\\\\n",
       "\t tcga\\_skcm & cGMP-PKG signaling pathway           & 2\\\\\n",
       "\t tcga\\_stad & AMPK signaling pathway               & 2\\\\\n",
       "\t tcga\\_stad & Apoptosis                            & 2\\\\\n",
       "\t tcga\\_stad & Axon guidance                        & 2\\\\\n",
       "\t tcga\\_stad & ErbB signaling pathway               & 2\\\\\n",
       "\t tcga\\_stad & HIF-1 signaling pathway              & 2\\\\\n",
       "\t tcga\\_stad & Hippo signaling pathway              & 2\\\\\n",
       "\t tcga\\_stad & MAPK signaling pathway               & 2\\\\\n",
       "\t tcga\\_stad & NF-kappa B signaling pathway         & 2\\\\\n",
       "\t tcga\\_stad & Oxytocin signaling pathway           & 2\\\\\n",
       "\t tcga\\_stad & PI3K-Akt signaling pathway           & 2\\\\\n",
       "\t tcga\\_stad & PPAR signaling pathway               & 2\\\\\n",
       "\t tcga\\_stad & Ras signaling pathway                & 2\\\\\n",
       "\t tcga\\_stad & Thyroid hormone signaling pathway    & 2\\\\\n",
       "\t tcga\\_stad & Tight junction                       & 2\\\\\n",
       "\t tcga\\_stad & Toll-like receptor signaling pathway & 2\\\\\n",
       "\t tcga\\_stad & cAMP signaling pathway               & 1\\\\\n",
       "\t tcga\\_stad & cGMP-PKG signaling pathway           & 2\\\\\n",
       "\\end{tabular}\n"
      ],
      "text/markdown": [
       "\n",
       "A grouped_df: 155 × 3\n",
       "\n",
       "| project &lt;chr&gt; | path &lt;chr&gt; | n &lt;int&gt; |\n",
       "|---|---|---|\n",
       "| tcga_brca | AMPK signaling pathway               | 2 |\n",
       "| tcga_brca | Apoptosis                            | 2 |\n",
       "| tcga_brca | Axon guidance                        | 2 |\n",
       "| tcga_brca | ErbB signaling pathway               | 1 |\n",
       "| tcga_brca | HIF-1 signaling pathway              | 2 |\n",
       "| tcga_brca | Hippo signaling pathway              | 2 |\n",
       "| tcga_brca | MAPK signaling pathway               | 2 |\n",
       "| tcga_brca | NF-kappa B signaling pathway         | 2 |\n",
       "| tcga_brca | PI3K-Akt signaling pathway           | 2 |\n",
       "| tcga_brca | PPAR signaling pathway               | 2 |\n",
       "| tcga_brca | Ras signaling pathway                | 2 |\n",
       "| tcga_brca | Thyroid hormone signaling pathway    | 2 |\n",
       "| tcga_brca | Tight junction                       | 2 |\n",
       "| tcga_brca | Toll-like receptor signaling pathway | 1 |\n",
       "| tcga_brca | cAMP signaling pathway               | 2 |\n",
       "| tcga_brca | cGMP-PKG signaling pathway           | 1 |\n",
       "| tcga_coad | AMPK signaling pathway               | 2 |\n",
       "| tcga_coad | Apoptosis                            | 2 |\n",
       "| tcga_coad | Axon guidance                        | 2 |\n",
       "| tcga_coad | ErbB signaling pathway               | 1 |\n",
       "| tcga_coad | HIF-1 signaling pathway              | 2 |\n",
       "| tcga_coad | Hippo signaling pathway              | 2 |\n",
       "| tcga_coad | MAPK signaling pathway               | 2 |\n",
       "| tcga_coad | NF-kappa B signaling pathway         | 2 |\n",
       "| tcga_coad | Oxytocin signaling pathway           | 2 |\n",
       "| tcga_coad | PI3K-Akt signaling pathway           | 2 |\n",
       "| tcga_coad | PPAR signaling pathway               | 2 |\n",
       "| tcga_coad | Ras signaling pathway                | 2 |\n",
       "| tcga_coad | Thyroid hormone signaling pathway    | 2 |\n",
       "| tcga_coad | Tight junction                       | 2 |\n",
       "| ⋮ | ⋮ | ⋮ |\n",
       "| tcga_skcm | HIF-1 signaling pathway              | 2 |\n",
       "| tcga_skcm | Hippo signaling pathway              | 2 |\n",
       "| tcga_skcm | MAPK signaling pathway               | 2 |\n",
       "| tcga_skcm | NF-kappa B signaling pathway         | 2 |\n",
       "| tcga_skcm | Oxytocin signaling pathway           | 2 |\n",
       "| tcga_skcm | PI3K-Akt signaling pathway           | 2 |\n",
       "| tcga_skcm | PPAR signaling pathway               | 2 |\n",
       "| tcga_skcm | Ras signaling pathway                | 2 |\n",
       "| tcga_skcm | Thyroid hormone signaling pathway    | 2 |\n",
       "| tcga_skcm | Tight junction                       | 2 |\n",
       "| tcga_skcm | Toll-like receptor signaling pathway | 1 |\n",
       "| tcga_skcm | cAMP signaling pathway               | 2 |\n",
       "| tcga_skcm | cGMP-PKG signaling pathway           | 2 |\n",
       "| tcga_stad | AMPK signaling pathway               | 2 |\n",
       "| tcga_stad | Apoptosis                            | 2 |\n",
       "| tcga_stad | Axon guidance                        | 2 |\n",
       "| tcga_stad | ErbB signaling pathway               | 2 |\n",
       "| tcga_stad | HIF-1 signaling pathway              | 2 |\n",
       "| tcga_stad | Hippo signaling pathway              | 2 |\n",
       "| tcga_stad | MAPK signaling pathway               | 2 |\n",
       "| tcga_stad | NF-kappa B signaling pathway         | 2 |\n",
       "| tcga_stad | Oxytocin signaling pathway           | 2 |\n",
       "| tcga_stad | PI3K-Akt signaling pathway           | 2 |\n",
       "| tcga_stad | PPAR signaling pathway               | 2 |\n",
       "| tcga_stad | Ras signaling pathway                | 2 |\n",
       "| tcga_stad | Thyroid hormone signaling pathway    | 2 |\n",
       "| tcga_stad | Tight junction                       | 2 |\n",
       "| tcga_stad | Toll-like receptor signaling pathway | 2 |\n",
       "| tcga_stad | cAMP signaling pathway               | 1 |\n",
       "| tcga_stad | cGMP-PKG signaling pathway           | 2 |\n",
       "\n"
      ],
      "text/plain": [
       "    project   path                                 n\n",
       "1   tcga_brca AMPK signaling pathway               2\n",
       "2   tcga_brca Apoptosis                            2\n",
       "3   tcga_brca Axon guidance                        2\n",
       "4   tcga_brca ErbB signaling pathway               1\n",
       "5   tcga_brca HIF-1 signaling pathway              2\n",
       "6   tcga_brca Hippo signaling pathway              2\n",
       "7   tcga_brca MAPK signaling pathway               2\n",
       "8   tcga_brca NF-kappa B signaling pathway         2\n",
       "9   tcga_brca PI3K-Akt signaling pathway           2\n",
       "10  tcga_brca PPAR signaling pathway               2\n",
       "11  tcga_brca Ras signaling pathway                2\n",
       "12  tcga_brca Thyroid hormone signaling pathway    2\n",
       "13  tcga_brca Tight junction                       2\n",
       "14  tcga_brca Toll-like receptor signaling pathway 1\n",
       "15  tcga_brca cAMP signaling pathway               2\n",
       "16  tcga_brca cGMP-PKG signaling pathway           1\n",
       "17  tcga_coad AMPK signaling pathway               2\n",
       "18  tcga_coad Apoptosis                            2\n",
       "19  tcga_coad Axon guidance                        2\n",
       "20  tcga_coad ErbB signaling pathway               1\n",
       "21  tcga_coad HIF-1 signaling pathway              2\n",
       "22  tcga_coad Hippo signaling pathway              2\n",
       "23  tcga_coad MAPK signaling pathway               2\n",
       "24  tcga_coad NF-kappa B signaling pathway         2\n",
       "25  tcga_coad Oxytocin signaling pathway           2\n",
       "26  tcga_coad PI3K-Akt signaling pathway           2\n",
       "27  tcga_coad PPAR signaling pathway               2\n",
       "28  tcga_coad Ras signaling pathway                2\n",
       "29  tcga_coad Thyroid hormone signaling pathway    2\n",
       "30  tcga_coad Tight junction                       2\n",
       "⋮   ⋮         ⋮                                    ⋮\n",
       "126 tcga_skcm HIF-1 signaling pathway              2\n",
       "127 tcga_skcm Hippo signaling pathway              2\n",
       "128 tcga_skcm MAPK signaling pathway               2\n",
       "129 tcga_skcm NF-kappa B signaling pathway         2\n",
       "130 tcga_skcm Oxytocin signaling pathway           2\n",
       "131 tcga_skcm PI3K-Akt signaling pathway           2\n",
       "132 tcga_skcm PPAR signaling pathway               2\n",
       "133 tcga_skcm Ras signaling pathway                2\n",
       "134 tcga_skcm Thyroid hormone signaling pathway    2\n",
       "135 tcga_skcm Tight junction                       2\n",
       "136 tcga_skcm Toll-like receptor signaling pathway 1\n",
       "137 tcga_skcm cAMP signaling pathway               2\n",
       "138 tcga_skcm cGMP-PKG signaling pathway           2\n",
       "139 tcga_stad AMPK signaling pathway               2\n",
       "140 tcga_stad Apoptosis                            2\n",
       "141 tcga_stad Axon guidance                        2\n",
       "142 tcga_stad ErbB signaling pathway               2\n",
       "143 tcga_stad HIF-1 signaling pathway              2\n",
       "144 tcga_stad Hippo signaling pathway              2\n",
       "145 tcga_stad MAPK signaling pathway               2\n",
       "146 tcga_stad NF-kappa B signaling pathway         2\n",
       "147 tcga_stad Oxytocin signaling pathway           2\n",
       "148 tcga_stad PI3K-Akt signaling pathway           2\n",
       "149 tcga_stad PPAR signaling pathway               2\n",
       "150 tcga_stad Ras signaling pathway                2\n",
       "151 tcga_stad Thyroid hormone signaling pathway    2\n",
       "152 tcga_stad Tight junction                       2\n",
       "153 tcga_stad Toll-like receptor signaling pathway 2\n",
       "154 tcga_stad cAMP signaling pathway               1\n",
       "155 tcga_stad cGMP-PKG signaling pathway           2"
      ]
     },
     "metadata": {},
     "output_type": "display_data"
    }
   ],
   "source": [
    "circs_sig_dif %>% group_by(sex, project, path) %>% summarise(n=n()) %>% filter(n>15)  %>% group_by(project, path) %>% summarise(n=n()) "
   ]
  }
 ],
 "metadata": {
  "kernelspec": {
   "display_name": "R",
   "language": "R",
   "name": "ir"
  },
  "language_info": {
   "codemirror_mode": "r",
   "file_extension": ".r",
   "mimetype": "text/x-r-source",
   "name": "R",
   "pygments_lexer": "r",
   "version": "4.3.2"
  }
 },
 "nbformat": 4,
 "nbformat_minor": 5
}
