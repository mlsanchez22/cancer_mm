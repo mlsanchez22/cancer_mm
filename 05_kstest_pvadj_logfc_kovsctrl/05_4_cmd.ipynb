{
 "cells": [
  {
   "cell_type": "code",
   "execution_count": 1,
   "id": "b6788829-c2bb-499c-b627-6def4063dba1",
   "metadata": {},
   "outputs": [],
   "source": [
    "target_drug_used <- readRDS(\"/mnt/lustre/scratch/CBRA/research/projects/tcga_mm/results/04_mm_ko_drug_used/target_drug_used.rds\")"
   ]
  },
  {
   "cell_type": "code",
   "execution_count": 23,
   "id": "8c1f4fb4-3af1-404c-9af9-56df460a11bf",
   "metadata": {},
   "outputs": [],
   "source": [
    "writeLines(unlist(lapply(target_drug_used, FUN=function(x)\n",
    "paste(\"Rscript /mnt/lustre/scratch/CBRA/research/projects/tcga_mm/code/05_kstest_pvadj_logfc_kovsctrl/05_3_kstest_pvadj_logfc_kovsctrl_gtex.R \", x,sep=\"\"))),\n",
    "\"/mnt/lustre/scratch/CBRA/research/projects/tcga_mm/code/05_kstest_pvadj_logfc_kovsctrl/05_4_kstest_pvadj_logfc_kovsctrl_gtex.cmd\")                         "
   ]
  }
 ],
 "metadata": {
  "kernelspec": {
   "display_name": "R",
   "language": "R",
   "name": "ir"
  },
  "language_info": {
   "codemirror_mode": "r",
   "file_extension": ".r",
   "mimetype": "text/x-r-source",
   "name": "R",
   "pygments_lexer": "r",
   "version": "4.3.2"
  }
 },
 "nbformat": 4,
 "nbformat_minor": 5
}
