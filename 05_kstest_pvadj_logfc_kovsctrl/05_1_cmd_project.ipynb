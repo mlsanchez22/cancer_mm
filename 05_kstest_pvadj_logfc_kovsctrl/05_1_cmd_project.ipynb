{
 "cells": [
  {
   "cell_type": "code",
   "execution_count": 11,
   "id": "79fe9608-9830-40c6-b328-a587da559bcd",
   "metadata": {},
   "outputs": [],
   "source": [
    "proj_tcga_sel <- c(\"tcga_brca\", \"tcga_coad\",\"tcga_esca\",\"tcga_lgg\",\"tcga_luad\",\"tcga_lusc\",\"tcga_paad\",\"tcga_skcm\",\"tcga_stad\")\n",
    "#lapply(proj_tcga_sel, FUN=function(x) dir.create(paste(\"/mnt/lustre/scratch/CBRA/research/projects/tcga_mm/results/05_kstest_pvadj_logfc_kovsctrl/\",x,sep=\"\")))"
   ]
  },
  {
   "cell_type": "code",
   "execution_count": 14,
   "id": "851a497f-47f5-45bd-bedb-f6b77b4294cf",
   "metadata": {},
   "outputs": [],
   "source": [
    "funct_creat_cmd <- function(project){\n",
    "\n",
    "    pat_drug_db_circ <- readRDS(paste(\"/mnt/lustre/scratch/CBRA/research/projects/tcga_mm/results/04_mm_ko_drug_used/04_2_pat_drug_db_circ/\",project,\"/pat_drug_db_circ_\",project,\".rds\",sep=\"\"))\n",
    "    writeLines(unlist(lapply(unique(pat_drug_db_circ$entrez_id), FUN=function(x)\n",
    "    paste(\"Rscript /mnt/lustre/scratch/CBRA/research/projects/tcga_mm/code/05_kstest_pvadj_logfc_kovsctrl/05_2_kstest_pvadj_logfc_kovsctrl.R\",project,x, sep=\" \")))\n",
    "    , paste(\"/mnt/lustre/scratch/CBRA/research/projects/tcga_mm/code/05_kstest_pvadj_logfc_kovsctrl/05_1_cmd_project/\",project,\".sh\",sep=\"\"))            \n",
    "}"
   ]
  },
  {
   "cell_type": "code",
   "execution_count": 17,
   "id": "cb91e662-34b3-46de-a64a-4503924aa6c7",
   "metadata": {},
   "outputs": [
    {
     "name": "stdout",
     "output_type": "stream",
     "text": [
      "43\n",
      "29\n",
      "8\n",
      "54\n",
      "22\n",
      "23\n",
      "13\n",
      "37\n",
      "28\n"
     ]
    },
    {
     "data": {
      "text/html": [
       "<ol>\n",
       "\t<li>NULL</li>\n",
       "\t<li>NULL</li>\n",
       "\t<li>NULL</li>\n",
       "\t<li>NULL</li>\n",
       "\t<li>NULL</li>\n",
       "\t<li>NULL</li>\n",
       "\t<li>NULL</li>\n",
       "\t<li>NULL</li>\n",
       "\t<li>NULL</li>\n",
       "</ol>\n"
      ],
      "text/latex": [
       "\\begin{enumerate}\n",
       "\\item NULL\n",
       "\\item NULL\n",
       "\\item NULL\n",
       "\\item NULL\n",
       "\\item NULL\n",
       "\\item NULL\n",
       "\\item NULL\n",
       "\\item NULL\n",
       "\\item NULL\n",
       "\\end{enumerate}\n"
      ],
      "text/markdown": [
       "1. NULL\n",
       "2. NULL\n",
       "3. NULL\n",
       "4. NULL\n",
       "5. NULL\n",
       "6. NULL\n",
       "7. NULL\n",
       "8. NULL\n",
       "9. NULL\n",
       "\n",
       "\n"
      ],
      "text/plain": [
       "[[1]]\n",
       "NULL\n",
       "\n",
       "[[2]]\n",
       "NULL\n",
       "\n",
       "[[3]]\n",
       "NULL\n",
       "\n",
       "[[4]]\n",
       "NULL\n",
       "\n",
       "[[5]]\n",
       "NULL\n",
       "\n",
       "[[6]]\n",
       "NULL\n",
       "\n",
       "[[7]]\n",
       "NULL\n",
       "\n",
       "[[8]]\n",
       "NULL\n",
       "\n",
       "[[9]]\n",
       "NULL\n"
      ]
     },
     "metadata": {},
     "output_type": "display_data"
    }
   ],
   "source": [
    "lapply(proj_tcga_sel, FUN=function(x) funct_creat_cmd(x))"
   ]
  }
 ],
 "metadata": {
  "kernelspec": {
   "display_name": "R",
   "language": "R",
   "name": "ir"
  },
  "language_info": {
   "codemirror_mode": "r",
   "file_extension": ".r",
   "mimetype": "text/x-r-source",
   "name": "R",
   "pygments_lexer": "r",
   "version": "4.3.2"
  }
 },
 "nbformat": 4,
 "nbformat_minor": 5
}
