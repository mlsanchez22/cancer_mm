{
 "cells": [
  {
   "cell_type": "code",
   "execution_count": 1,
   "id": "a84c6ae9-f5e1-46ff-9dd4-25dc32b55c6e",
   "metadata": {},
   "outputs": [
    {
     "data": {
      "text/html": [
       "<ol>\n",
       "\t<li>TRUE</li>\n",
       "\t<li>TRUE</li>\n",
       "\t<li>TRUE</li>\n",
       "\t<li>TRUE</li>\n",
       "\t<li>TRUE</li>\n",
       "\t<li>TRUE</li>\n",
       "\t<li>TRUE</li>\n",
       "\t<li>TRUE</li>\n",
       "\t<li>TRUE</li>\n",
       "</ol>\n"
      ],
      "text/latex": [
       "\\begin{enumerate}\n",
       "\\item TRUE\n",
       "\\item TRUE\n",
       "\\item TRUE\n",
       "\\item TRUE\n",
       "\\item TRUE\n",
       "\\item TRUE\n",
       "\\item TRUE\n",
       "\\item TRUE\n",
       "\\item TRUE\n",
       "\\end{enumerate}\n"
      ],
      "text/markdown": [
       "1. TRUE\n",
       "2. TRUE\n",
       "3. TRUE\n",
       "4. TRUE\n",
       "5. TRUE\n",
       "6. TRUE\n",
       "7. TRUE\n",
       "8. TRUE\n",
       "9. TRUE\n",
       "\n",
       "\n"
      ],
      "text/plain": [
       "[[1]]\n",
       "[1] TRUE\n",
       "\n",
       "[[2]]\n",
       "[1] TRUE\n",
       "\n",
       "[[3]]\n",
       "[1] TRUE\n",
       "\n",
       "[[4]]\n",
       "[1] TRUE\n",
       "\n",
       "[[5]]\n",
       "[1] TRUE\n",
       "\n",
       "[[6]]\n",
       "[1] TRUE\n",
       "\n",
       "[[7]]\n",
       "[1] TRUE\n",
       "\n",
       "[[8]]\n",
       "[1] TRUE\n",
       "\n",
       "[[9]]\n",
       "[1] TRUE\n"
      ]
     },
     "metadata": {},
     "output_type": "display_data"
    }
   ],
   "source": [
    "proj_tcga_sel <- c(\"tcga_brca\", \"tcga_coad\",\"tcga_esca\",\"tcga_lgg\",\"tcga_luad\",\"tcga_lusc\",\"tcga_paad\",\"tcga_skcm\",\"tcga_stad\")\n",
    "lapply(proj_tcga_sel, FUN=function(x) dir.create(paste(\"/mnt/lustre/scratch/CBRA/research/projects/tcga_mm/results/07_survival_analysis/\",x, sep=\"\")))"
   ]
  },
  {
   "cell_type": "code",
   "execution_count": 3,
   "id": "8cc81166-16ca-4726-8d75-a2fb317a562c",
   "metadata": {},
   "outputs": [],
   "source": [
    "writeLines(unlist(lapply(proj_tcga_sel, FUN=function(x)\n",
    "    paste(\"Rscript /mnt/lustre/scratch/CBRA/research/projects/tcga_mm/code/07_survival_analysis/07_survival_analysis.R \",x,sep=\"\"))),\n",
    "\"/mnt/lustre/scratch/CBRA/research/projects/tcga_mm/code/07_survival_analysis/07_survival_analysis.cmd\")                         "
   ]
  }
 ],
 "metadata": {
  "kernelspec": {
   "display_name": "R",
   "language": "R",
   "name": "ir"
  },
  "language_info": {
   "codemirror_mode": "r",
   "file_extension": ".r",
   "mimetype": "text/x-r-source",
   "name": "R",
   "pygments_lexer": "r",
   "version": "4.3.2"
  }
 },
 "nbformat": 4,
 "nbformat_minor": 5
}
