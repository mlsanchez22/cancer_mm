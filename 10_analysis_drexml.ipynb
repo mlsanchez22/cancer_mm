{
 "cells": [
  {
   "cell_type": "code",
   "execution_count": 40,
   "id": "6525a5d6-2bba-4266-8979-476947358ec5",
   "metadata": {},
   "outputs": [],
   "source": [
    "library(dplyr)\n",
    "library(reshape2)\n",
    "library(ggplot2)\n",
    "library(hipathia)"
   ]
  },
  {
   "cell_type": "code",
   "execution_count": 41,
   "id": "d6dbf738-7223-4764-af7d-6551547c4d11",
   "metadata": {},
   "outputs": [],
   "source": [
    "proj_tumorvsctrl <- data.frame(tcga=c(\"tcga_brca\", \"tcga_coad\",\"tcga_lgg\",\"tcga_luad\",\"tcga_lusc\",\"tcga_paad\",\"tcga_skcm\"),\n",
    "                          gtex=c(\"Breast\",\"Colon\",\"Brain\",\"Lung\",\"Lung\",\"Pancreas\",\"Skin\"))\n",
    "rownames(proj_tumorvsctrl) <- proj_tumorvsctrl$tcga"
   ]
  },
  {
   "cell_type": "code",
   "execution_count": 42,
   "id": "6e94f590-0636-4ea4-ace7-c7856fa95ba2",
   "metadata": {},
   "outputs": [],
   "source": [
    "#### extract shap results of tcga"
   ]
  },
  {
   "cell_type": "code",
   "execution_count": 43,
   "id": "962fa5c4-52dc-4bdd-8e50-63cee5d8b54e",
   "metadata": {},
   "outputs": [],
   "source": [
    "extract_shap_drexml_tcga <- function(project){\n",
    "\n",
    "    shap_sel_fem_sym_file <- paste(\"/mnt/lustre/scratch/CBRA/research/projects/tcga_mm/results/09_drug_repository/09_6_drexml_tcga/\",project,\"/\",project,\"_female/drexml/tables/shap_selection_symbol.tsv\",sep=\"\")\n",
    "    shap_sel_fem_symbol <- read.table(shap_sel_fem_sym_file, header=T,sep=\"\\t\")\n",
    "    rownames(shap_sel_fem_symbol) <- shap_sel_fem_symbol$circuit_name\n",
    "    shap_sel_fem_symbol$circuit_name <- NULL\n",
    "\n",
    "    shap_sel_fem <- data.frame(shap_sel_fem_symbol %>%  mutate(across(everything(), ~ ifelse(. == \"True\", 1, ifelse(. == \"False\", 0, .)))))\n",
    "    shap_sel_fem[] <- lapply(shap_sel_fem, as.numeric)\n",
    "\n",
    "    shap_sign_fem <- shap_sel_fem[rownames(shap_sel_fem)[apply(shap_sel_fem,1,sum) != 0],\n",
    "    colnames(shap_sel_fem)[apply(shap_sel_fem,2,sum) != 0]]\n",
    "    shap_sign_fem$circs <- rownames(shap_sel_fem)[apply(shap_sel_fem,1,sum) != 0]\n",
    "\n",
    "    drug_circs_fem <- melt(shap_sign_fem) %>% filter(value != 0) %>% mutate(value = case_when(value==1 ~ project))\n",
    "    colnames(drug_circs_fem) <- c(\"circs\",\"drug_target\",\"project\")\n",
    "    drug_circs_fem$sex <- rep(\"female\",length(drug_circs_fem$circs))\n",
    "\n",
    "    \n",
    "    shap_sel_mal_sym_file <- paste(\"/mnt/lustre/scratch/CBRA/research/projects/tcga_mm/results/09_drug_repository/09_6_drexml_tcga/\",project,\"/\",project,\"_male/drexml/tables/shap_selection_symbol.tsv\",sep=\"\")\n",
    "    shap_sel_mal_symbol <- read.table(shap_sel_mal_sym_file, header=T,sep=\"\\t\")\n",
    "    rownames(shap_sel_mal_symbol) <- shap_sel_mal_symbol$circuit_name\n",
    "    shap_sel_mal_symbol$circuit_name <- NULL\n",
    "\n",
    "    shap_sel_mal <- data.frame(shap_sel_mal_symbol %>%  mutate(across(everything(), ~ ifelse(. == \"True\", 1, ifelse(. == \"False\", 0, .)))))\n",
    "    shap_sel_mal[] <- lapply(shap_sel_mal, as.numeric)\n",
    "\n",
    "    shap_sign_mal <- shap_sel_mal[rownames(shap_sel_mal)[apply(shap_sel_mal,1,sum) != 0],\n",
    "    colnames(shap_sel_mal)[apply(shap_sel_mal,2,sum) != 0]]\n",
    "    shap_sign_mal$circs <- rownames(shap_sel_mal)[apply(shap_sel_mal,1,sum) != 0]\n",
    "\n",
    "    drug_circs_mal <- melt(shap_sign_mal) %>% filter(value != 0) %>% mutate(value = case_when(value==1 ~ project))\n",
    "    colnames(drug_circs_mal) <- c(\"circs\",\"drug_target\",\"project\")\n",
    "    drug_circs_mal$sex <- rep(\"male\",length(drug_circs_mal$circs))\n",
    "    drug_circs <- rbind(drug_circs_fem, drug_circs_mal)\n",
    "    \n",
    "    return(drug_circs)\n",
    "\n",
    "}"
   ]
  },
  {
   "cell_type": "code",
   "execution_count": 44,
   "id": "c27384c4-ad72-4974-a89a-db3d81075e93",
   "metadata": {},
   "outputs": [
    {
     "name": "stderr",
     "output_type": "stream",
     "text": [
      "Using circs as id variables\n",
      "\n",
      "Using circs as id variables\n",
      "\n",
      "Using circs as id variables\n",
      "\n",
      "Using circs as id variables\n",
      "\n",
      "Using circs as id variables\n",
      "\n",
      "Using circs as id variables\n",
      "\n",
      "Using circs as id variables\n",
      "\n",
      "Using circs as id variables\n",
      "\n",
      "Using circs as id variables\n",
      "\n",
      "Using circs as id variables\n",
      "\n",
      "Using circs as id variables\n",
      "\n",
      "Using circs as id variables\n",
      "\n",
      "Using circs as id variables\n",
      "\n",
      "Using circs as id variables\n",
      "\n"
     ]
    }
   ],
   "source": [
    "drug_circ_tcga <- do.call(rbind, lapply(proj_tumorvsctrl$tcga, FUN=function(x) extract_shap_drexml_tcga(x)))"
   ]
  },
  {
   "cell_type": "code",
   "execution_count": 45,
   "id": "752fc93f-675d-4d06-8cb9-2918f56c0059",
   "metadata": {},
   "outputs": [],
   "source": [
    "#### extract shap results of gtex"
   ]
  },
  {
   "cell_type": "code",
   "execution_count": 46,
   "id": "d8e46464-c9a3-4a07-92f2-92bece1f3522",
   "metadata": {},
   "outputs": [],
   "source": [
    "extract_shap_drexml_gtex <- function(project){\n",
    "    \n",
    "    \n",
    "    shap_sel_fem_sym_file <- paste(\"/mnt/lustre/scratch/CBRA/research/projects/tcga_mm/results/09_drug_repository/09_4_drexml_gtex/\",paste(tolower(proj_tumorvsctrl[project,\"gtex\"]),project,sep=\"_\"),\"/\",paste(tolower(proj_tumorvsctrl[project,\"gtex\"]),project,sep=\"_\"),\"_female/drexml/tables/shap_selection_symbol.tsv\",sep=\"\")\n",
    "    shap_sel_fem_symbol <- read.table(shap_sel_fem_sym_file, header=T,sep=\"\\t\")\n",
    "    rownames(shap_sel_fem_symbol) <- shap_sel_fem_symbol$circuit_name\n",
    "    shap_sel_fem_symbol$circuit_name <- NULL\n",
    "\n",
    "    shap_sel_fem <- data.frame(shap_sel_fem_symbol %>%  mutate(across(everything(), ~ ifelse(. == \"True\", 1, ifelse(. == \"False\", 0, .)))))\n",
    "    shap_sel_fem[] <- lapply(shap_sel_fem, as.numeric)\n",
    "\n",
    "    shap_sign_fem <- shap_sel_fem[rownames(shap_sel_fem)[apply(shap_sel_fem,1,sum) != 0],\n",
    "    colnames(shap_sel_fem)[apply(shap_sel_fem,2,sum) != 0]]\n",
    "    shap_sign_fem$circs <- rownames(shap_sel_fem)[apply(shap_sel_fem,1,sum) != 0]\n",
    "    \n",
    "    if (nrow(shap_sign_fem)!=0){\n",
    "        \n",
    "        drug_circs_fem <- melt(shap_sign_fem) %>% filter(value != 0) %>% mutate(value = case_when(value==1 ~ tolower(proj_tumorvsctrl[project,\"gtex\"])))\n",
    "        colnames(drug_circs_fem) <- c(\"circs\",\"drug_target\",\"ctrol\")\n",
    "        drug_circs_fem$sex <- rep(\"female\",length(drug_circs_fem$circs))\n",
    "        drug_circs_fem$project <- rep(project,length(drug_circs_fem$circs))\n",
    "    \n",
    "    \n",
    "        shap_sel_mal_sym_file <- paste(\"/mnt/lustre/scratch/CBRA/research/projects/tcga_mm/results/09_drug_repository/09_4_drexml_gtex/\",paste(tolower(proj_tumorvsctrl[project,\"gtex\"]),project,sep=\"_\"),\"/\",paste(tolower(proj_tumorvsctrl[project,\"gtex\"]),project,sep=\"_\"),\"_male/drexml/tables/shap_selection_symbol.tsv\",sep=\"\")\n",
    "        shap_sel_mal_symbol <- read.table(shap_sel_mal_sym_file, header=T,sep=\"\\t\")\n",
    "        rownames(shap_sel_mal_symbol) <- shap_sel_mal_symbol$circuit_name\n",
    "        shap_sel_mal_symbol$circuit_name <- NULL\n",
    "\n",
    "        shap_sel_mal <- data.frame(shap_sel_mal_symbol %>%  mutate(across(everything(), ~ ifelse(. == \"True\", 1, ifelse(. == \"False\", 0, .)))))\n",
    "        shap_sel_mal[] <- lapply(shap_sel_mal, as.numeric)\n",
    "\n",
    "        shap_sign_mal <- shap_sel_mal[rownames(shap_sel_mal)[apply(shap_sel_mal,1,sum) != 0],\n",
    "        colnames(shap_sel_mal)[apply(shap_sel_mal,2,sum) != 0]]\n",
    "        shap_sign_mal$circs <- rownames(shap_sel_mal)[apply(shap_sel_mal,1,sum) != 0]\n",
    "\n",
    "        drug_circs_mal <- melt(shap_sign_mal) %>% filter(value != 0) %>% mutate(value = case_when(value==1 ~ tolower(proj_tumorvsctrl[project,\"gtex\"])))\n",
    "        colnames(drug_circs_mal) <- c(\"circs\",\"drug_target\",\"ctrol\")\n",
    "        drug_circs_mal$sex <- rep(\"male\",length(drug_circs_mal$circs))\n",
    "        drug_circs_mal$project <- rep(project,length(drug_circs_mal$circs))\n",
    "        drug_circs <- rbind(drug_circs_fem, drug_circs_mal)\n",
    "    \n",
    "        return(drug_circs)\n",
    "    } else{\n",
    "\n",
    "    shap_sel_mal_sym_file <- paste(\"/mnt/lustre/scratch/CBRA/research/projects/tcga_mm/results/09_drug_repository/09_4_drexml_gtex/\",paste(tolower(proj_tumorvsctrl[project,\"gtex\"]),project,sep=\"_\"),\"/\",paste(tolower(proj_tumorvsctrl[project,\"gtex\"]),project,sep=\"_\"),\"_male/drexml/tables/shap_selection_symbol.tsv\",sep=\"\")\n",
    "    shap_sel_mal_symbol <- read.table(shap_sel_mal_sym_file, header=T,sep=\"\\t\")\n",
    "    rownames(shap_sel_mal_symbol) <- shap_sel_mal_symbol$circuit_name\n",
    "    shap_sel_mal_symbol$circuit_name <- NULL\n",
    "\n",
    "    shap_sel_mal <- data.frame(shap_sel_mal_symbol %>%  mutate(across(everything(), ~ ifelse(. == \"True\", 1, ifelse(. == \"False\", 0, .)))))\n",
    "    shap_sel_mal[] <- lapply(shap_sel_mal, as.numeric)\n",
    "\n",
    "    shap_sign_mal <- shap_sel_mal[rownames(shap_sel_mal)[apply(shap_sel_mal,1,sum) != 0],\n",
    "    colnames(shap_sel_mal)[apply(shap_sel_mal,2,sum) != 0]]\n",
    "    shap_sign_mal$circs <- rownames(shap_sel_mal)[apply(shap_sel_mal,1,sum) != 0]\n",
    "\n",
    "    drug_circs_mal <- melt(shap_sign_mal) %>% filter(value != 0) %>% mutate(value = case_when(value==1 ~ tolower(proj_tumorvsctrl[project,\"gtex\"])))\n",
    "    colnames(drug_circs_mal) <- c(\"circs\",\"drug_target\",\"ctrol\")\n",
    "    drug_circs_mal$sex <- rep(\"male\",length(drug_circs_mal$circs))\n",
    "    drug_circs_mal$project <- rep(project,length(drug_circs_mal$circs))\n",
    "    return(drug_circs_mal)\n",
    "        }\n",
    "\n",
    "}"
   ]
  },
  {
   "cell_type": "code",
   "execution_count": 47,
   "id": "bcaa1bbf-73a2-479f-a2c5-b3c8e8ca1644",
   "metadata": {},
   "outputs": [
    {
     "data": {
      "text/html": [
       "'tcga_paad'"
      ],
      "text/latex": [
       "'tcga\\_paad'"
      ],
      "text/markdown": [
       "'tcga_paad'"
      ],
      "text/plain": [
       "[1] \"tcga_paad\""
      ]
     },
     "metadata": {},
     "output_type": "display_data"
    }
   ],
   "source": [
    "proj_tumorvsctrl$tcga[6] ## any results female"
   ]
  },
  {
   "cell_type": "code",
   "execution_count": 48,
   "id": "222bfc57-f223-425f-b5c3-943869d6711d",
   "metadata": {},
   "outputs": [
    {
     "name": "stderr",
     "output_type": "stream",
     "text": [
      "Using circs as id variables\n",
      "\n",
      "Using circs as id variables\n",
      "\n",
      "Using circs as id variables\n",
      "\n",
      "Using circs as id variables\n",
      "\n",
      "Using circs as id variables\n",
      "\n",
      "Using circs as id variables\n",
      "\n",
      "Using circs as id variables\n",
      "\n",
      "Using circs as id variables\n",
      "\n",
      "Using circs as id variables\n",
      "\n",
      "Using circs as id variables\n",
      "\n",
      "Using circs as id variables\n",
      "\n",
      "Using circs as id variables\n",
      "\n",
      "Using circs as id variables\n",
      "\n"
     ]
    }
   ],
   "source": [
    "drug_circ_gtex <- do.call(rbind, lapply(proj_tumorvsctrl$tcga, FUN=function(x) extract_shap_drexml_gtex(x)))"
   ]
  },
  {
   "cell_type": "code",
   "execution_count": 49,
   "id": "a4a4006e-418c-43f5-b8ce-6ba67a25b602",
   "metadata": {},
   "outputs": [],
   "source": [
    "## filter"
   ]
  },
  {
   "cell_type": "code",
   "execution_count": 50,
   "id": "0eed9f43-6fdf-4308-bfcf-9b989b0848b7",
   "metadata": {},
   "outputs": [],
   "source": [
    "filter_drug_circ_tumorvsctrol <- function(project){\n",
    "\n",
    "\tdrug_affect_tumor_female <- unique(paste(drug_circ_tcga[drug_circ_tcga$project == project & drug_circ_tcga$sex == \"female\",\"drug_target\"]))\n",
    "\tdrug_affect_tumor_male <- unique(paste(drug_circ_tcga[drug_circ_tcga$project == project & drug_circ_tcga$sex == \"male\",\"drug_target\"]))\n",
    "\tdrug_affect_ctrl_female <- unique(paste(drug_circ_gtex[drug_circ_gtex$project == project & drug_circ_gtex$sex == \"female\",\"drug_target\"]))\n",
    "\tdrug_affect_ctrl_male <- unique(paste(drug_circ_gtex[drug_circ_gtex$project == project & drug_circ_gtex$sex == \"male\",\"drug_target\"]))\n",
    "\n",
    "\tdrug_affect_only_tumor_female <- setdiff(drug_affect_tumor_female, drug_affect_ctrl_female)\n",
    "\tdrug_affect_only_tumor_male <- setdiff(drug_affect_tumor_male, drug_affect_ctrl_male)\n",
    "\n",
    "\tdrug_circ_tumor_fctrol <- rbind(drug_circ_tcga[drug_circ_tcga$project == project & drug_circ_tcga$sex == \"female\" & \t\t\tdrug_circ_tcga$drug_target %in% drug_affect_only_tumor_female,],\n",
    "\tdrug_circ_tcga[drug_circ_tcga$project == project & drug_circ_tcga$sex == \"male\" & drug_circ_tcga$drug_target %in% \t\t\tdrug_affect_only_tumor_male,])\n",
    "\n",
    "    drug_circ_both_sex <- data.frame(drug_circ_tumor_fctrol %>% group_by(circs, drug_target) %>% summarise(n=n()) %>% filter(n==2))\n",
    "    drug_circ_both_sex$sex <- rep(\"both_sex\", length(drug_circ_both_sex$circs))\n",
    "    drug_circ_one_sex <- data.frame(drug_circ_tumor_fctrol %>% group_by(circs, drug_target) %>% summarise(n=n()) %>% filter(n==1))\n",
    "    \n",
    "    drug_circ_one_sex$sex <- unlist(lapply(1:length(drug_circ_one_sex$circs), FUN=function(y)\n",
    "    drug_circ_tumor_fctrol[drug_circ_tumor_fctrol$circs == drug_circ_one_sex$circs[y] &\n",
    "    drug_circ_tumor_fctrol$drug_target == drug_circ_one_sex$drug_target[y],\"sex\"]))\n",
    "    drug_circ_annot_sex <- rbind(drug_circ_both_sex,\n",
    "    drug_circ_one_sex)\n",
    "    drug_circ_annot_sex$n <- NULL                                                                         \n",
    "    drug_circ_annot_sex$project <- rep(project, length(drug_circ_annot_sex$sex))\n",
    "    return(drug_circ_annot_sex)\n",
    "}"
   ]
  },
  {
   "cell_type": "code",
   "execution_count": 51,
   "id": "b9af26d8-bb53-49b2-8287-600271546c8a",
   "metadata": {},
   "outputs": [
    {
     "name": "stderr",
     "output_type": "stream",
     "text": [
      "\u001b[1m\u001b[22m`summarise()` has grouped output by 'circs'. You can override using the\n",
      "`.groups` argument.\n",
      "\u001b[1m\u001b[22m`summarise()` has grouped output by 'circs'. You can override using the\n",
      "`.groups` argument.\n",
      "\u001b[1m\u001b[22m`summarise()` has grouped output by 'circs'. You can override using the\n",
      "`.groups` argument.\n",
      "\u001b[1m\u001b[22m`summarise()` has grouped output by 'circs'. You can override using the\n",
      "`.groups` argument.\n",
      "\u001b[1m\u001b[22m`summarise()` has grouped output by 'circs'. You can override using the\n",
      "`.groups` argument.\n",
      "\u001b[1m\u001b[22m`summarise()` has grouped output by 'circs'. You can override using the\n",
      "`.groups` argument.\n",
      "\u001b[1m\u001b[22m`summarise()` has grouped output by 'circs'. You can override using the\n",
      "`.groups` argument.\n",
      "\u001b[1m\u001b[22m`summarise()` has grouped output by 'circs'. You can override using the\n",
      "`.groups` argument.\n",
      "\u001b[1m\u001b[22m`summarise()` has grouped output by 'circs'. You can override using the\n",
      "`.groups` argument.\n",
      "\u001b[1m\u001b[22m`summarise()` has grouped output by 'circs'. You can override using the\n",
      "`.groups` argument.\n",
      "\u001b[1m\u001b[22m`summarise()` has grouped output by 'circs'. You can override using the\n",
      "`.groups` argument.\n",
      "\u001b[1m\u001b[22m`summarise()` has grouped output by 'circs'. You can override using the\n",
      "`.groups` argument.\n",
      "\u001b[1m\u001b[22m`summarise()` has grouped output by 'circs'. You can override using the\n",
      "`.groups` argument.\n",
      "\u001b[1m\u001b[22m`summarise()` has grouped output by 'circs'. You can override using the\n",
      "`.groups` argument.\n"
     ]
    }
   ],
   "source": [
    "drug_circ_tumorfctrl <- do.call(rbind, lapply(proj_tumorvsctrl$tcga, FUN=function(x) filter_drug_circ_tumorvsctrol(x)))"
   ]
  },
  {
   "cell_type": "code",
   "execution_count": 52,
   "id": "bbbb9f86-147a-4b96-bfdf-dee7c740187a",
   "metadata": {},
   "outputs": [],
   "source": [
    "drug_bank <- read.table(\"/mnt/lustre/scratch/CBRA/data/DRUGBANK/drugbank_drug-bindings_v5.1.8.tsv\", sep=\"\\t\", header=T)"
   ]
  },
  {
   "cell_type": "code",
   "execution_count": 53,
   "id": "940122e5-ee3e-4f2a-a52a-34e0e405cb37",
   "metadata": {},
   "outputs": [
    {
     "data": {
      "text/html": [
       "<style>\n",
       ".list-inline {list-style: none; margin:0; padding: 0}\n",
       ".list-inline>li {display: inline-block}\n",
       ".list-inline>li:not(:last-child)::after {content: \"\\00b7\"; padding: 0 .5ex}\n",
       "</style>\n",
       "<ol class=list-inline><li>'HDAC1'</li><li>'CYP3A4'</li><li>'CYP2D6'</li><li>'ABCB1'</li></ol>\n"
      ],
      "text/latex": [
       "\\begin{enumerate*}\n",
       "\\item 'HDAC1'\n",
       "\\item 'CYP3A4'\n",
       "\\item 'CYP2D6'\n",
       "\\item 'ABCB1'\n",
       "\\end{enumerate*}\n"
      ],
      "text/markdown": [
       "1. 'HDAC1'\n",
       "2. 'CYP3A4'\n",
       "3. 'CYP2D6'\n",
       "4. 'ABCB1'\n",
       "\n",
       "\n"
      ],
      "text/plain": [
       "[1] \"HDAC1\"  \"CYP3A4\" \"CYP2D6\" \"ABCB1\" "
      ]
     },
     "metadata": {},
     "output_type": "display_data"
    }
   ],
   "source": [
    "drug_bank[grep(\"Panobinostat\",drug_bank$drug_name),\"gene_name\"]"
   ]
  },
  {
   "cell_type": "code",
   "execution_count": 54,
   "id": "29decd87-b72b-4730-bbe6-6480fcfeb29b",
   "metadata": {},
   "outputs": [
    {
     "data": {
      "text/html": [
       "<table class=\"dataframe\">\n",
       "<caption>A tibble: 1 × 2</caption>\n",
       "<thead>\n",
       "\t<tr><th scope=col>project</th><th scope=col>n</th></tr>\n",
       "\t<tr><th scope=col>&lt;chr&gt;</th><th scope=col>&lt;int&gt;</th></tr>\n",
       "</thead>\n",
       "<tbody>\n",
       "\t<tr><td>tcga_brca</td><td>152</td></tr>\n",
       "</tbody>\n",
       "</table>\n"
      ],
      "text/latex": [
       "A tibble: 1 × 2\n",
       "\\begin{tabular}{ll}\n",
       " project & n\\\\\n",
       " <chr> & <int>\\\\\n",
       "\\hline\n",
       "\t tcga\\_brca & 152\\\\\n",
       "\\end{tabular}\n"
      ],
      "text/markdown": [
       "\n",
       "A tibble: 1 × 2\n",
       "\n",
       "| project &lt;chr&gt; | n &lt;int&gt; |\n",
       "|---|---|\n",
       "| tcga_brca | 152 |\n",
       "\n"
      ],
      "text/plain": [
       "  project   n  \n",
       "1 tcga_brca 152"
      ]
     },
     "metadata": {},
     "output_type": "display_data"
    }
   ],
   "source": [
    "drug_circ_tumorfctrl %>% filter(drug_target == \"EGFR\") %>% group_by(project) %>% summarise(n=n())"
   ]
  },
  {
   "cell_type": "code",
   "execution_count": 55,
   "id": "196c25ca-1f45-477f-ad34-5ba4360302b8",
   "metadata": {},
   "outputs": [],
   "source": [
    "names_project <- data.frame(\"project\" = c(\"tcga_brca\",\"tcga_coad\",\"tcga_esca\",\"tcga_lgg\",\"tcga_luad\",\"tcga_lusc\",\"tcga_paad\",\"tcga_skcm\",\"tcga_stad\"),\n",
    "                            \"name\"=c(\"Breast invasive carcinoma\",\"Colon adenocarcinoma\",\"Esophageal carcinoma\",\"Brain Lower Grade Glioma\",\"Lung adenocarcinoma\",\"Lung squamous cell carcinoma\",\"Pancreatic Adenocarcinoma\",\"Skin Cutaneous Melanoma\",\"Stomach adenocarcinoma\")) \n",
    "rownames(names_project) <- names_project$project"
   ]
  },
  {
   "cell_type": "code",
   "execution_count": 56,
   "id": "6f5f9c1d-b9fc-4205-b173-32c60cb90cf8",
   "metadata": {},
   "outputs": [],
   "source": [
    "# heatmaps results "
   ]
  },
  {
   "cell_type": "code",
   "execution_count": 57,
   "id": "e062aa92-88b3-492d-be26-2fb2c31d8cb0",
   "metadata": {},
   "outputs": [],
   "source": [
    "heatmap_funct <- function(x) {\n",
    "    clas_colors <- c('both_sex' = \"#ff7f00\",\n",
    "   'female' = \"#e31a1c\",\n",
    "   'male' = \"#45aeff\")\n",
    "    p <- drug_circ_tumorfctrl[drug_circ_tumorfctrl$project == x,] %>% \n",
    "    ggplot(aes(x=drug_target, y = circs, fill = sex)) +\n",
    "    scale_fill_manual(values = clas_colors) + \n",
    "    geom_tile(color=\"white\") + #facet_grid(. ~ sex, scales = \"free_y\", space = \"free_y\") +\n",
    "    labs(title = names_project[x,\"name\"], x = \"Drug target\", y = \"Physiological pathways\", fill=\"Sex\" ,color = \"Legend Title\\n\") + \n",
    "    theme_minimal() +\n",
    "    theme(strip.text.y = element_text(size=10, angle=360), \n",
    "        strip.background = element_rect(colour=\"grey\", fill=c(\"#CCCCFF\")),\n",
    "        legend.position=\"bottom\", legend.direction=\"horizontal\",\n",
    "        legend.text=element_text(size=10),\n",
    "        axis.text.x=element_text(size=6,vjust=0.5, angle = 90),\n",
    "        axis.text.y=element_text(size=8,vjust=0.5),\n",
    "        plot.title=element_text(hjust=0, size=14)) \n",
    "print(p)\n",
    "}"
   ]
  },
  {
   "cell_type": "code",
   "execution_count": 58,
   "id": "dd37acc5-14ad-4bcb-8df2-1845e8676c35",
   "metadata": {},
   "outputs": [
    {
     "data": {
      "text/plain": [
       "[[1]]\n",
       "\n",
       "[[2]]\n",
       "\n",
       "[[3]]\n",
       "\n",
       "[[4]]\n",
       "\n",
       "[[5]]\n",
       "\n",
       "[[6]]\n",
       "\n",
       "[[7]]\n"
      ]
     },
     "metadata": {},
     "output_type": "display_data"
    },
    {
     "data": {
      "text/html": [
       "<strong>png:</strong> 2"
      ],
      "text/latex": [
       "\\textbf{png:} 2"
      ],
      "text/markdown": [
       "**png:** 2"
      ],
      "text/plain": [
       "png \n",
       "  2 "
      ]
     },
     "metadata": {},
     "output_type": "display_data"
    }
   ],
   "source": [
    "pdf(\"/mnt/lustre/scratch/CBRA/research/projects/tcga_mm/results/10_analysis_drexml/heatmaps_drexml.pdf\", width=15, height=100, paper=\"special\")\n",
    "lapply(proj_tumorvsctrl$tcga, FUN=function(x) heatmap_funct(x))\n",
    "dev.off()"
   ]
  },
  {
   "cell_type": "code",
   "execution_count": 59,
   "id": "08b742e9-baf7-4da0-bc13-a27e61fcdd80",
   "metadata": {
    "scrolled": true
   },
   "outputs": [
    {
     "name": "stderr",
     "output_type": "stream",
     "text": [
      "Using circ as id variables\n",
      "\n"
     ]
    }
   ],
   "source": [
    "paths_hallmarks <- read.table(\"/mnt/lustre/scratch/CBRA/research/projects/tcga_mm/data/paths_hallmarks.tsv\",sep=\"\\t\",header = T)\n",
    "hallmarks <- paths_hallmarks[,-c(1,2)]\n",
    "rownames(hallmarks) <- paths_hallmarks[,2]\n",
    "\n",
    "hallmarks_bi <- data.frame(as.data.frame(abs(hallmarks) == 1) %>%  mutate(across(everything(), ~ ifelse(. == \"TRUE\", 1, ifelse(. == \"FALSE\", 0, .)))))\n",
    "hallmarks_bi$circ <- rownames(hallmarks_bi)\n",
    "\n",
    "#hallmarks_bi <- rbind(hallmarks_bi, colnames(hallmarks_bi)) #\n",
    "#rownames(hallmarks_bi)[nrow(hallmarks_bi)] <- \"hall\"         \n",
    "circ_hallmarks <- melt(hallmarks_bi) %>% filter(value == 1)\n",
    "\n",
    "hall_name <- data.frame(\"name\"=c('Invasion and metastasis','Immune destruction','Cellular energetics','Replicate immortality','Evading growth suppressors','Genome instability and mutation','Inducing angiogenesis','Resisting cell death','Sustaining proliferative signaling','Tumor promoting inflammation'))\n",
    "rownames(hall_name) <- colnames(hallmarks)\n",
    "circ_hallmarks$hallmark <- hall_name[circ_hallmarks$variable,\"name\"]"
   ]
  },
  {
   "cell_type": "code",
   "execution_count": 60,
   "id": "c98011d8-208e-492b-9606-0077fcaff81a",
   "metadata": {},
   "outputs": [],
   "source": [
    "filter_drug_circ_tumorvsctrol_sex_sep <- function(project){\n",
    "\n",
    "\tdrug_affect_tumor_female <- unique(paste(drug_circ_tcga[drug_circ_tcga$project == project & drug_circ_tcga$sex == \"female\",\"drug_target\"]))\n",
    "\tdrug_affect_tumor_male <- unique(paste(drug_circ_tcga[drug_circ_tcga$project == project & drug_circ_tcga$sex == \"male\",\"drug_target\"]))\n",
    "\tdrug_affect_ctrl_female <- unique(paste(drug_circ_gtex[drug_circ_gtex$project == project & drug_circ_gtex$sex == \"female\",\"drug_target\"]))\n",
    "\tdrug_affect_ctrl_male <- unique(paste(drug_circ_gtex[drug_circ_gtex$project == project & drug_circ_gtex$sex == \"male\",\"drug_target\"]))\n",
    "\n",
    "\tdrug_affect_only_tumor_female <- setdiff(drug_affect_tumor_female, drug_affect_ctrl_female)\n",
    "\tdrug_affect_only_tumor_male <- setdiff(drug_affect_tumor_male, drug_affect_ctrl_male)\n",
    "\n",
    "\tdrug_circ_tumor_fctrol <- rbind(drug_circ_tcga[drug_circ_tcga$project == project & drug_circ_tcga$sex == \"female\" & \t\t\tdrug_circ_tcga$drug_target %in% drug_affect_only_tumor_female,],\n",
    "\tdrug_circ_tcga[drug_circ_tcga$project == project & drug_circ_tcga$sex == \"male\" & drug_circ_tcga$drug_target %in% \t\t\tdrug_affect_only_tumor_male,])\n",
    "    return(drug_circ_tumor_fctrol)\n",
    "}\n",
    "drug_circ_tumorfctrl_sex_sep <- do.call(rbind, lapply(proj_tumorvsctrl$tcga, FUN=function(x) filter_drug_circ_tumorvsctrol_sex_sep(x)))    "
   ]
  },
  {
   "cell_type": "code",
   "execution_count": 61,
   "id": "8d574b0f-632e-4e42-85f4-6217e6d02262",
   "metadata": {},
   "outputs": [],
   "source": [
    "drug_circ_tumorfctrl_hallmark <- merge(drug_circ_tumorfctrl_sex_sep, circ_hallmarks, by.x=\"circs\",by.y=\"circ\", all.x=TRUE)"
   ]
  },
  {
   "cell_type": "code",
   "execution_count": 62,
   "id": "da0238c5-53cb-4920-a953-52e7ef891f3f",
   "metadata": {},
   "outputs": [
    {
     "data": {
      "text/html": [
       "<strong>png:</strong> 2"
      ],
      "text/latex": [
       "\\textbf{png:} 2"
      ],
      "text/markdown": [
       "**png:** 2"
      ],
      "text/plain": [
       "png \n",
       "  2 "
      ]
     },
     "metadata": {},
     "output_type": "display_data"
    }
   ],
   "source": [
    "filename <- paste(\"/mnt/lustre/scratch/CBRA/research/projects/tcga_mm/results/10_analysis_drexml/barplot_hallmark_more_affect_target.jpeg\",sep=\"\")\n",
    "\n",
    "jpeg(filename, quality = 100, width = 800, height = 1000)\n",
    "\n",
    "drug_circ_tumorfctrl_hallmark$project <- toupper(gsub(\"_\",\"-\",drug_circ_tumorfctrl_hallmark$project))\n",
    "\n",
    "# Definir los colores\n",
    "colors <- c(female = \"#844288\", male = \"#E69F00\")\n",
    "\n",
    "# Crear el gráfico\n",
    "drug_circ_tumorfctrl_hallmark %>%\n",
    "  filter(!is.na(hallmark)) %>%\n",
    "  group_by(project, sex, hallmark) %>%\n",
    "  summarise(n = n(), .groups = 'drop') %>%\n",
    "  ggplot(aes(x = n, y = hallmark, fill = sex)) +\n",
    "  facet_grid(project ~ ., scales = \"free\", space = \"free\", labeller = label_wrap_gen(width = 120)) +\n",
    "  geom_bar(stat = \"identity\", position = position_dodge()) +\n",
    "  scale_fill_manual(values = colors) + # Aplicar los colores definidos\n",
    "  labs(title = \"\", x = \"Number drug target in circuits\", y = \"Hallmarks\", fill = \"Sex\") +\n",
    "  theme_minimal() +\n",
    "  theme(axis.text.x = element_text(angle = 90, hjust = 1, size = 10), \n",
    "        axis.text.y = element_text(size = 11), \n",
    "        plot.title = element_text(size = 14, hjust = 1.5),\n",
    "        strip.text.y = element_text(size = 14),        strip.background = element_rect(colour=\"grey\", fill=c(\"#66B9B9\")),\n",
    "\n",
    "        panel.spacing.x = unit(0.5, \"lines\"), \n",
    "        axis.title.x = element_text(margin = margin(t = 10)) # Ajustar tamaño de etiquetas de facet\n",
    "  ) #+\n",
    "  #scale_fill_manual(values = custom_colors)\n",
    "dev.off()"
   ]
  },
  {
   "cell_type": "code",
   "execution_count": 63,
   "id": "3486650a-cb15-4555-9a72-cc3e310af510",
   "metadata": {},
   "outputs": [],
   "source": [
    "### barplot hallmark"
   ]
  },
  {
   "cell_type": "code",
   "execution_count": 64,
   "id": "88911d9d-2231-4c73-96d0-a7c3f52bacf1",
   "metadata": {},
   "outputs": [],
   "source": [
    "barplot_hallmark <- function(project){\n",
    "drug_circ_tumorfctrl_proj <- drug_circ_tumorfctrl[drug_circ_tumorfctrl$project == project,]\n",
    "drug_circ_tumorfctrl_proj_hallm <- merge(drug_circ_tumorfctrl_proj, circ_hallmarks, by.x=\"circs\", by.y=\"circ\", all.x=T)\n",
    "drug_circ_tumorfctrl_proj_hallm <- data.frame(drug_circ_tumorfctrl_proj_hallm %>% group_by(sex, hallmark) %>% summarise(n=n()))\n",
    "\n",
    "both_sex_agg <- drug_circ_tumorfctrl_proj_hallm %>%\n",
    "  filter(sex == \"both_sex\") %>%\n",
    "  group_by(hallmark) %>%\n",
    "  summarize(n = sum(n, na.rm = TRUE)) %>%\n",
    "  ungroup()\n",
    "\n",
    "# Add aggregated \"both_sex\" counts to \"female\" and \"male\"\n",
    "df_aggregated <- drug_circ_tumorfctrl_proj_hallm %>%\n",
    "  filter(sex %in% c(\"female\", \"male\")) %>%\n",
    "  bind_rows(\n",
    "    both_sex_agg %>% mutate(sex = \"female\"),\n",
    "    both_sex_agg %>% mutate(sex = \"male\")\n",
    "  ) %>%\n",
    "  group_by(hallmark, sex) %>%\n",
    "  summarize(n = sum(n, na.rm = TRUE)) %>%\n",
    "  ungroup()\n",
    "\n",
    "# Define custom colors\n",
    "custom_colors <- c(\"female\" = \"#e31a1c\", \"male\" = \"#45aeff\")\n",
    "\n",
    "# Create the barplot with custom colors\n",
    "p <- ggplot(df_aggregated, aes(x = hallmark, y = n, fill = sex)) +\n",
    "  geom_bar(stat = \"identity\", position = position_dodge()) +\n",
    "  labs(title = names_project[project,\"name\"], x = \"Hallmarks\", y = \"Number drug target in circuits\", fill = \"Sex\") +\n",
    "  theme_minimal() +\n",
    "  theme(axis.text.x = element_text(angle = 90, hjust = 1, size = 10), \n",
    "        axis.text.y = element_text(size = 10), \n",
    "        plot.title = element_text(size = 14, hjust = 0.5)) +\n",
    "  scale_fill_manual(values = custom_colors)\n",
    "    print(p)\n",
    "\n",
    "}    "
   ]
  },
  {
   "cell_type": "code",
   "execution_count": 65,
   "id": "49113f66-19a3-468f-9496-568aac705437",
   "metadata": {},
   "outputs": [],
   "source": [
    "#lapply(proj_tumorvsctrl$tcga, FUN=function(x) barplot_hallmark(x))"
   ]
  },
  {
   "cell_type": "code",
   "execution_count": 66,
   "id": "6147634b-9883-4800-9576-8e05ac01a963",
   "metadata": {},
   "outputs": [],
   "source": [
    "### porcentajes que afecta cada farmaco a los circuits"
   ]
  },
  {
   "cell_type": "code",
   "execution_count": 67,
   "id": "892aa86d-8420-45ec-8fbc-33bfda960782",
   "metadata": {},
   "outputs": [
    {
     "data": {
      "text/html": [
       "<style>\n",
       ".list-inline {list-style: none; margin:0; padding: 0}\n",
       ".list-inline>li {display: inline-block}\n",
       ".list-inline>li:not(:last-child)::after {content: \"\\00b7\"; padding: 0 .5ex}\n",
       "</style>\n",
       "<ol class=list-inline><li>79</li><li>2</li></ol>\n"
      ],
      "text/latex": [
       "\\begin{enumerate*}\n",
       "\\item 79\n",
       "\\item 2\n",
       "\\end{enumerate*}\n"
      ],
      "text/markdown": [
       "1. 79\n",
       "2. 2\n",
       "\n",
       "\n"
      ],
      "text/plain": [
       "[1] 79  2"
      ]
     },
     "metadata": {},
     "output_type": "display_data"
    }
   ],
   "source": [
    "pathvals_gtex <- readRDS(\"/mnt/lustre/scratch/CBRA/research/projects/tcga_mm/results/01_mechanistics_models/01_2_mechanistics_models_gtex/path_vals_gtex.rds\")\n",
    "physiological_paths <- read.table(\"/mnt/lustre/scratch/CBRA/projects/heterogeneity/data/physiological_paths.tsv\", sep=\"\\t\") \n",
    "n_circs_path <- data.frame(\n",
    "    \"paths\"= physiological_paths$V1,\n",
    "    \"n_circs\"=unlist(lapply(physiological_paths$V2, FUN=function(x) length(grep(x,rownames(pathvals_gtex))))))\n",
    "rownames(n_circs_path) <- n_circs_path$paths\n",
    "dim(n_circs_path)"
   ]
  },
  {
   "cell_type": "code",
   "execution_count": 68,
   "id": "cf197e0c-d991-4b7e-96af-a95448ff50f3",
   "metadata": {},
   "outputs": [
    {
     "name": "stderr",
     "output_type": "stream",
     "text": [
      "\u001b[1m\u001b[22m`summarise()` has grouped output by 'drug_target', 'sex', 'project'. You can\n",
      "override using the `.groups` argument.\n"
     ]
    }
   ],
   "source": [
    "drug_circ_tumorfctrl_sex_sep$path <- unlist(lapply(drug_circ_tumorfctrl_sex_sep$circs, FUN=function(x) unlist(strsplit(x,\":\"))[1]))\n",
    "\n",
    "drug_circ_tumorfctrl_npath <- data.frame(drug_circ_tumorfctrl_sex_sep %>% group_by(drug_target,sex,project,path) %>% summarise(n=n()))\n",
    "\n",
    "drug_circ_tumorfctrl_npath$ncirc_total <- \n",
    "n_circs_path[drug_circ_tumorfctrl_npath$path,\"n_circs\"]    \n",
    "\n",
    "drug_circ_tumorfctrl_npath$perc <- drug_circ_tumorfctrl_npath$n/drug_circ_tumorfctrl_npath$ncirc_total*100                                                   "
   ]
  },
  {
   "cell_type": "code",
   "execution_count": 69,
   "id": "b50ef254-ab83-44d4-89d7-e54dcd6409f8",
   "metadata": {},
   "outputs": [],
   "source": [
    "drug_circ_tumorfctrl_npath$sex[drug_circ_tumorfctrl_npath$sex == \"female\"] <- \"Female\"\n",
    "drug_circ_tumorfctrl_npath$sex[drug_circ_tumorfctrl_npath$sex == \"male\"] <- \"Male\"\n",
    "drug_circ_tumorfctrl_npath$project <- toupper(gsub(\"_\",\"-\",drug_circ_tumorfctrl_npath$project))"
   ]
  },
  {
   "cell_type": "code",
   "execution_count": 72,
   "id": "80a4004b-52a9-43e0-bf4e-0a6392516d17",
   "metadata": {},
   "outputs": [
    {
     "data": {
      "text/html": [
       "<strong>png:</strong> 2"
      ],
      "text/latex": [
       "\\textbf{png:} 2"
      ],
      "text/markdown": [
       "**png:** 2"
      ],
      "text/plain": [
       "png \n",
       "  2 "
      ]
     },
     "metadata": {},
     "output_type": "display_data"
    }
   ],
   "source": [
    "filename <- paste(\"/mnt/lustre/scratch/CBRA/research/projects/tcga_mm/results/10_analysis_drexml/heatmap_more_affect_target.jpeg\",sep=\"\")\n",
    "jpeg(filename, quality = 100, width = 1000, height = 1300)\n",
    "\n",
    "drug_circ_tumorfctrl_npath %>% filter(perc > 80) %>% ggplot(aes(x=drug_target, y = path, fill = perc)) +\n",
    "    #scale_fill_manual(values = clas_colors) + \n",
    "    geom_tile(color=\"white\") + facet_grid(sex ~ project, scales = \"free\", space = \"free\", labeller = label_wrap_gen(width = 15)) +\n",
    "    labs(title = \"\", x = \"Drug target\", y = \"Physiological pathways\", fill=\"Percetange\" ,color = \"Legend Title\\n\") + \n",
    "    theme_minimal() +\n",
    "    theme(strip.text.y = element_text(size=10, angle=360), \n",
    "        strip.background = element_rect(colour=\"grey\", fill=c(\"#66B9B9\")),\n",
    "        legend.position=\"bottom\", legend.direction=\"horizontal\",\n",
    "        legend.text=element_text(size=10),\n",
    "        axis.text.x=element_text(size=12,vjust=0.5, angle = 90),\n",
    "        axis.text.y=element_text(size=9,vjust=0.5),\n",
    "        plot.title=element_text(hjust=0, size=14),strip.placement = \"outside\"  # Places the facet strip outside the plot area\n",
    "      ) + \n",
    "      scale_fill_gradient(low = \"#F39B7F\", high = \"#A73030\")\n",
    "dev.off()"
   ]
  },
  {
   "cell_type": "code",
   "execution_count": null,
   "id": "41324dc5-deed-430b-87b0-62afa41a3f74",
   "metadata": {},
   "outputs": [],
   "source": []
  }
 ],
 "metadata": {
  "kernelspec": {
   "display_name": "R",
   "language": "R",
   "name": "ir"
  },
  "language_info": {
   "codemirror_mode": "r",
   "file_extension": ".r",
   "mimetype": "text/x-r-source",
   "name": "R",
   "pygments_lexer": "r",
   "version": "4.3.2"
  }
 },
 "nbformat": 4,
 "nbformat_minor": 5
}
