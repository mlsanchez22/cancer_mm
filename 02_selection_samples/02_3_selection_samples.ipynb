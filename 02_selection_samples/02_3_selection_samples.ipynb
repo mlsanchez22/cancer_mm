{
 "cells": [
  {
   "cell_type": "code",
   "execution_count": null,
   "id": "664d97b7-8f03-4f15-a324-dbd3868ce5be",
   "metadata": {},
   "outputs": [],
   "source": [
    "### TCGA"
   ]
  },
  {
   "cell_type": "code",
   "execution_count": 1,
   "id": "78b51952-1cec-400b-8e89-a1466273ba3e",
   "metadata": {
    "collapsed": true,
    "jupyter": {
     "outputs_hidden": true
    }
   },
   "outputs": [
    {
     "name": "stderr",
     "output_type": "stream",
     "text": [
      "\n",
      "Attaching package: ‘dplyr’\n",
      "\n",
      "\n",
      "The following objects are masked from ‘package:stats’:\n",
      "\n",
      "    filter, lag\n",
      "\n",
      "\n",
      "The following objects are masked from ‘package:base’:\n",
      "\n",
      "    intersect, setdiff, setequal, union\n",
      "\n",
      "\n"
     ]
    }
   ],
   "source": [
    "library(TCGAbiolinks)\n",
    "library(dplyr)"
   ]
  },
  {
   "cell_type": "code",
   "execution_count": 2,
   "id": "cc1475bd-689c-4d97-a3f3-aef6a0431a31",
   "metadata": {},
   "outputs": [],
   "source": [
    "projects <- getGDCprojects()\n",
    "projects_tcga <- projects$id[grep(\"TCGA\",projects$id)]\n",
    "dir_project_tcga <- tolower(gsub(\"-\",\"_\",projects_tcga))"
   ]
  },
  {
   "cell_type": "code",
   "execution_count": 3,
   "id": "dbcde6a8-f356-4c6d-8a99-8470d10babab",
   "metadata": {},
   "outputs": [],
   "source": [
    "funct_read_patients_sample_file <- function(x) {\n",
    "    file <- paste(\"/mnt/lustre/scratch/CBRA/research/projects/tcga_mm/results/02_selection_samples/02_1_ext_information_patients_tcga/\", x, \"/patients_geneexp_clind_drug_samptype_\",x,\".rds\",sep=\"\")\n",
    "    patients_sample_type <- readRDS(file)\n",
    "    patients_sample_type$project <- rep(x, length(patients_sample_type$patient))\n",
    "    return(patients_sample_type)\n",
    "}"
   ]
  },
  {
   "cell_type": "code",
   "execution_count": 4,
   "id": "ae7a0906-9fb6-4e89-8836-a991097e4f37",
   "metadata": {},
   "outputs": [
    {
     "data": {
      "text/html": [
       "<style>\n",
       ".list-inline {list-style: none; margin:0; padding: 0}\n",
       ".list-inline>li {display: inline-block}\n",
       ".list-inline>li:not(:last-child)::after {content: \"\\00b7\"; padding: 0 .5ex}\n",
       "</style>\n",
       "<ol class=list-inline><li>'bcr_patient_barcode'</li><li>'days_to_birth'</li><li>'gender'</li><li>'vital_status'</li><li>'days_to_death'</li><li>'days_to_last_followup'</li><li>'has_new_tumor_events_information'</li><li>'drug_name'</li><li>'age'</li><li>'patient'</li><li>'sample_type'</li><li>'project'</li></ol>\n"
      ],
      "text/latex": [
       "\\begin{enumerate*}\n",
       "\\item 'bcr\\_patient\\_barcode'\n",
       "\\item 'days\\_to\\_birth'\n",
       "\\item 'gender'\n",
       "\\item 'vital\\_status'\n",
       "\\item 'days\\_to\\_death'\n",
       "\\item 'days\\_to\\_last\\_followup'\n",
       "\\item 'has\\_new\\_tumor\\_events\\_information'\n",
       "\\item 'drug\\_name'\n",
       "\\item 'age'\n",
       "\\item 'patient'\n",
       "\\item 'sample\\_type'\n",
       "\\item 'project'\n",
       "\\end{enumerate*}\n"
      ],
      "text/markdown": [
       "1. 'bcr_patient_barcode'\n",
       "2. 'days_to_birth'\n",
       "3. 'gender'\n",
       "4. 'vital_status'\n",
       "5. 'days_to_death'\n",
       "6. 'days_to_last_followup'\n",
       "7. 'has_new_tumor_events_information'\n",
       "8. 'drug_name'\n",
       "9. 'age'\n",
       "10. 'patient'\n",
       "11. 'sample_type'\n",
       "12. 'project'\n",
       "\n",
       "\n"
      ],
      "text/plain": [
       " [1] \"bcr_patient_barcode\"              \"days_to_birth\"                   \n",
       " [3] \"gender\"                           \"vital_status\"                    \n",
       " [5] \"days_to_death\"                    \"days_to_last_followup\"           \n",
       " [7] \"has_new_tumor_events_information\" \"drug_name\"                       \n",
       " [9] \"age\"                              \"patient\"                         \n",
       "[11] \"sample_type\"                      \"project\"                         "
      ]
     },
     "metadata": {},
     "output_type": "display_data"
    }
   ],
   "source": [
    "patients_sample <- do.call(rbind,lapply(dir_project_tcga[-6], FUN=function(x) funct_read_patients_sample_file(x)))\n",
    "colnames(patients_sample)                                        "
   ]
  },
  {
   "cell_type": "code",
   "execution_count": 5,
   "id": "5fefb720-0377-4b13-98b0-4357bbf3ceb4",
   "metadata": {},
   "outputs": [
    {
     "name": "stderr",
     "output_type": "stream",
     "text": [
      "\u001b[1m\u001b[22m`summarise()` has grouped output by 'gender', 'has_new_tumor_events_information'. You can override using the `.groups` argument.\n"
     ]
    }
   ],
   "source": [
    "projects_filt_samples_tcga <- as.data.frame(patients_sample %>% select(gender,has_new_tumor_events_information,sample_type,patient,project)  %>% filter(sample_type == \"Primary Solid Tumor\") %>%\n",
    "group_by(gender, has_new_tumor_events_information, project) %>% summarise(n=n()) %>% filter(n >2) %>% group_by(project) %>% summarise(n=n()) %>% filter(n == 4) %>% select(project))$project"
   ]
  },
  {
   "cell_type": "code",
   "execution_count": null,
   "id": "c7abbe19-1116-4790-82d2-053f16aa2781",
   "metadata": {},
   "outputs": [],
   "source": [
    "### GTEX"
   ]
  },
  {
   "cell_type": "code",
   "execution_count": 31,
   "id": "27386e0a-0358-48b9-8fe0-f46ae721bfc2",
   "metadata": {},
   "outputs": [],
   "source": [
    "donors_sex_age_tissue_gtex <- readRDS(\"/mnt/lustre/scratch/CBRA/research/projects/tcga_mm/results/02_selection_samples/02_2_ext_information_patients_gtex/donors_sex_age_tissue.rds\")"
   ]
  },
  {
   "cell_type": "code",
   "execution_count": 36,
   "id": "42d5fe2d-998c-4826-b606-b3fbd592cd5a",
   "metadata": {
    "collapsed": true,
    "jupyter": {
     "outputs_hidden": true
    }
   },
   "outputs": [
    {
     "name": "stderr",
     "output_type": "stream",
     "text": [
      "\u001b[1m\u001b[22m`summarise()` has grouped output by 'sex'. You can override using the `.groups` argument.\n"
     ]
    },
    {
     "data": {
      "text/html": [
       "<table class=\"dataframe\">\n",
       "<caption>A tibble: 21 × 2</caption>\n",
       "<thead>\n",
       "\t<tr><th scope=col>tissue</th><th scope=col>n</th></tr>\n",
       "\t<tr><th scope=col>&lt;chr&gt;</th><th scope=col>&lt;int&gt;</th></tr>\n",
       "</thead>\n",
       "<tbody>\n",
       "\t<tr><td>Adipose Tissue </td><td>2</td></tr>\n",
       "\t<tr><td>Adrenal Gland  </td><td>2</td></tr>\n",
       "\t<tr><td>Blood          </td><td>2</td></tr>\n",
       "\t<tr><td>Blood Vessel   </td><td>2</td></tr>\n",
       "\t<tr><td>Brain          </td><td>2</td></tr>\n",
       "\t<tr><td>Breast         </td><td>2</td></tr>\n",
       "\t<tr><td>Colon          </td><td>2</td></tr>\n",
       "\t<tr><td>Esophagus      </td><td>2</td></tr>\n",
       "\t<tr><td>Heart          </td><td>2</td></tr>\n",
       "\t<tr><td>Liver          </td><td>2</td></tr>\n",
       "\t<tr><td>Lung           </td><td>2</td></tr>\n",
       "\t<tr><td>Muscle         </td><td>2</td></tr>\n",
       "\t<tr><td>Nerve          </td><td>2</td></tr>\n",
       "\t<tr><td>Pancreas       </td><td>2</td></tr>\n",
       "\t<tr><td>Pituitary      </td><td>2</td></tr>\n",
       "\t<tr><td>Salivary Gland </td><td>2</td></tr>\n",
       "\t<tr><td>Skin           </td><td>2</td></tr>\n",
       "\t<tr><td>Small Intestine</td><td>2</td></tr>\n",
       "\t<tr><td>Spleen         </td><td>2</td></tr>\n",
       "\t<tr><td>Stomach        </td><td>2</td></tr>\n",
       "\t<tr><td>Thyroid        </td><td>2</td></tr>\n",
       "</tbody>\n",
       "</table>\n"
      ],
      "text/latex": [
       "A tibble: 21 × 2\n",
       "\\begin{tabular}{ll}\n",
       " tissue & n\\\\\n",
       " <chr> & <int>\\\\\n",
       "\\hline\n",
       "\t Adipose Tissue  & 2\\\\\n",
       "\t Adrenal Gland   & 2\\\\\n",
       "\t Blood           & 2\\\\\n",
       "\t Blood Vessel    & 2\\\\\n",
       "\t Brain           & 2\\\\\n",
       "\t Breast          & 2\\\\\n",
       "\t Colon           & 2\\\\\n",
       "\t Esophagus       & 2\\\\\n",
       "\t Heart           & 2\\\\\n",
       "\t Liver           & 2\\\\\n",
       "\t Lung            & 2\\\\\n",
       "\t Muscle          & 2\\\\\n",
       "\t Nerve           & 2\\\\\n",
       "\t Pancreas        & 2\\\\\n",
       "\t Pituitary       & 2\\\\\n",
       "\t Salivary Gland  & 2\\\\\n",
       "\t Skin            & 2\\\\\n",
       "\t Small Intestine & 2\\\\\n",
       "\t Spleen          & 2\\\\\n",
       "\t Stomach         & 2\\\\\n",
       "\t Thyroid         & 2\\\\\n",
       "\\end{tabular}\n"
      ],
      "text/markdown": [
       "\n",
       "A tibble: 21 × 2\n",
       "\n",
       "| tissue &lt;chr&gt; | n &lt;int&gt; |\n",
       "|---|---|\n",
       "| Adipose Tissue  | 2 |\n",
       "| Adrenal Gland   | 2 |\n",
       "| Blood           | 2 |\n",
       "| Blood Vessel    | 2 |\n",
       "| Brain           | 2 |\n",
       "| Breast          | 2 |\n",
       "| Colon           | 2 |\n",
       "| Esophagus       | 2 |\n",
       "| Heart           | 2 |\n",
       "| Liver           | 2 |\n",
       "| Lung            | 2 |\n",
       "| Muscle          | 2 |\n",
       "| Nerve           | 2 |\n",
       "| Pancreas        | 2 |\n",
       "| Pituitary       | 2 |\n",
       "| Salivary Gland  | 2 |\n",
       "| Skin            | 2 |\n",
       "| Small Intestine | 2 |\n",
       "| Spleen          | 2 |\n",
       "| Stomach         | 2 |\n",
       "| Thyroid         | 2 |\n",
       "\n"
      ],
      "text/plain": [
       "   tissue          n\n",
       "1  Adipose Tissue  2\n",
       "2  Adrenal Gland   2\n",
       "3  Blood           2\n",
       "4  Blood Vessel    2\n",
       "5  Brain           2\n",
       "6  Breast          2\n",
       "7  Colon           2\n",
       "8  Esophagus       2\n",
       "9  Heart           2\n",
       "10 Liver           2\n",
       "11 Lung            2\n",
       "12 Muscle          2\n",
       "13 Nerve           2\n",
       "14 Pancreas        2\n",
       "15 Pituitary       2\n",
       "16 Salivary Gland  2\n",
       "17 Skin            2\n",
       "18 Small Intestine 2\n",
       "19 Spleen          2\n",
       "20 Stomach         2\n",
       "21 Thyroid         2"
      ]
     },
     "metadata": {},
     "output_type": "display_data"
    }
   ],
   "source": [
    "donors_sex_age_tissue_gtex %>% group_by(sex,tissue) %>% summarise(n=n()) %>% filter(n >2) %>% group_by(tissue) %>% summarise(n=n()) %>% filter(n == 2)"
   ]
  },
  {
   "cell_type": "code",
   "execution_count": null,
   "id": "ecb5d7da-8bc9-4054-9854-181a41237e5b",
   "metadata": {},
   "outputs": [],
   "source": [
    "### selection:\n",
    "\n",
    "# tcga_brca - breast\n",
    "# tcga_coad - colon\n",
    "# tcga_esca - esophagus\n",
    "# tcga_lgg - brain\n",
    "# tcga_luad - lung\n",
    "# tcga_lusc - lung\n",
    "# tcga_paad - pancreas\n",
    "# tcga_skcm - skin\n",
    "# tcga_stad - stomach"
   ]
  }
 ],
 "metadata": {
  "kernelspec": {
   "display_name": "R",
   "language": "R",
   "name": "ir"
  },
  "language_info": {
   "codemirror_mode": "r",
   "file_extension": ".r",
   "mimetype": "text/x-r-source",
   "name": "R",
   "pygments_lexer": "r",
   "version": "4.3.2"
  }
 },
 "nbformat": 4,
 "nbformat_minor": 5
}
